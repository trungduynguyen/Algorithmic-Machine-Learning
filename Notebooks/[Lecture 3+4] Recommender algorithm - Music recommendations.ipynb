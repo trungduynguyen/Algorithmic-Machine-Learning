{
 "cells": [
  {
   "cell_type": "markdown",
   "metadata": {
    "collapsed": true
   },
   "source": [
    "2017 edition"
   ]
  },
  {
   "cell_type": "markdown",
   "metadata": {},
   "source": [
    "# Building a music recommender system\n",
    "\n",
    "As its name implies, a recommender system is a tool that helps predicting what a user may or may not like among a list of given items. In some sense, you can view this as an alternative to content search, as recommendation engines help users discover products or content that they may not come across otherwise. For example, Facebook suggests friends and pages to users. Youtube recommends videos which users may be interested in. Amazon suggests the products which users may need... Recommendation engines engage users to services, can be seen as a revenue optimization process, and in general help maintaining interest in a service.\n",
    "\n",
    "In this notebook, we study how to build a simple recommender system: we focus on music recommendations, and we use a simple algorithm to predict which items users might like, that is called ALS, alternating least squares.\n",
    "\n",
    "## Goals\n",
    "\n",
    "In this lecture, we expect students to:\n",
    "\n",
    "- Revisit (or learn) recommender algorithms\n",
    "\n",
    "- Understand the idea of Matrix Factorization and the ALS algorithm (serial and parallel versions)\n",
    "\n",
    "- Build a simple model for a real usecase: music recommender system\n",
    "\n",
    "- Understand how to validate the results\n",
    "\n",
    "## Steps\n",
    "\n",
    "We assume students to work outside lab hours on the learning material. These are the steps by which we guide students, during labs, to build a good basis for the end-to-end development of a recommender system:\n",
    "\n",
    "* Inspect the data using Spark SQL, and build some basic, but very valuable knowledge about the information we have at hand\n",
    "* Formally define what is a sensible algorithm to achieve our goal: given the \"history\" of user taste for music, recommend new music to discover. Essentialy, we want to build a statistical model of user preferences such that we can use it to \"predict\" which additional music the user could like\n",
    "* With our formal definition at hand, we will learn different ways to implement such an algorithm. Our goal here is to illustrate what are the difficulties to overcome when implementing a (parallel) algorithm\n",
    "* Finally, we will focus on an existing implementation, available in the Apache Spark MLLib, which we will use out of the box to build a reliable statistical model\n",
    "\n",
    "Now, you may think at this point we will be done!\n",
    "\n",
    "Well, you'd better think twice: one important topic we will cover in all our Notebooks is **how to validate the results we obtain**, and **how to choose good parameters to train models** especially when using an \"opaque\" library for doing the job. As a consequence, we will focus on the statistical validation of our recommender system.\n",
    "\n",
    "# Important note for grading\n",
    "This notebook displays a series of questions, that we use to grade the work done. Since the following questions are rather basic, and do not change much from year to year, they only allow reaching the grade 10/20. Additional points can be gained by showing originality, depth, algorithmic design and implementations beyond that used in the notebook. Remember that this should become your own notebook: there is ample room for creativity!"
   ]
  },
  {
   "cell_type": "markdown",
   "metadata": {},
   "source": [
    "# 1. Data\n",
    "\n",
    "Understanding data is one of the most important part when designing any machine learning algorithm. In this notebook, we will use a data set published by Audioscrobbler - a music recommendation system for last.fm. Audioscrobbler is also one of the first internet streaming radio sites, founded in 2002. It provided an open API for “scrobbling”, or recording listeners’ plays of artists’ songs. last.fm used this information to build a powerful music recommender engine.\n",
    "\n",
    "## 1.1. Data schema\n",
    "\n",
    "Unlike a rating dataset which contains information about users' preference for products (one star, 3 stars, and so on), the datasets from Audioscrobbler only has information about events: specifically, it keeps track of how many times a user played songs of a given artist and the names of artists. That means it carries less information than a rating: in the literature, this is called explicit vs. implicit ratings.\n",
    "\n",
    "### Reading material\n",
    "\n",
    "- [Implicit Feedback for Inferring User Preference: A Bibliography](http://people.csail.mit.edu/teevan/work/publications/papers/sigir-forum03.pdf)\n",
    "- [Comparing explicit and implicit feedback techniques for web retrieval: TREC-10 interactive track report](http://trec.nist.gov/pubs/trec10/papers/glasgow.pdf)\n",
    "- [Probabilistic Models for Data Combination in Recommender Systems](http://mlg.eng.cam.ac.uk/pub/pdf/WilGha08.pdf)\n",
    "\n",
    "The data we use in this Notebook is available in 3 files (these files are stored in our HDFS layer, in the directory  ```/datasets/lastfm```):\n",
    "\n",
    "- **`user_artist_data.txt`**: It contains about 140,000+ unique users, and 1.6 million unique artists. About 24.2 million users’ plays of artists’ are recorded, along with their count. It has 3 columns separated by spaces: \n",
    "\n",
    "| UserID | ArtistID | PlayCount |\n",
    "|----|----|----|\n",
    "| ...|...|...|\n",
    "\n",
    "\n",
    "- **`artist_data.txt`** : It prodives the names of each artist by their IDs. It has 2 columns separated by tab characters (`\\t`).\n",
    "\n",
    "| ArtistID | Name |\n",
    "|---|---|\n",
    "|...|...|\n",
    "\n",
    "- **`artist_alias.txt`**: Note that when plays are scrobbled, the client application submits the name of the artist being played. This name could be misspelled or nonstandard. For example, \"The Smiths\", \"Smiths, The\", and \"the smiths\" may appear as distinct artist IDs in the data set, even though they are plainly the same. `artist_alias.txt` maps artist IDs that are known misspellings or variants to the canonical ID of that artist. The data in this file has 2 columns separated by tab characters (`\\t`).\n",
    "\n",
    "| MisspelledArtistID | StandardArtistID |\n",
    "|---|---|\n",
    "|...|...|\n",
    "\n"
   ]
  },
  {
   "cell_type": "markdown",
   "metadata": {},
   "source": [
    "## 1.2. Understanding data: simple descriptive statistic\n",
    "\n",
    "In order to choose or design a suitable algorithm for achieving our goals, given the data we have, we should first understand data characteristics. To start, we import the necessary packages to work with regular expressions, Data Frames, and other nice features of our programming environment."
   ]
  },
  {
   "cell_type": "code",
<<<<<<< HEAD
   "execution_count": 6,
=======
   "execution_count": 1,
>>>>>>> 3f41190ae29a3a4943a7f3a55dd5c8bd471282b4
   "metadata": {
    "collapsed": false
   },
   "outputs": [],
   "source": [
    "import os\n",
    "import sys\n",
    "import re\n",
    "import random\n",
    "from pyspark import SparkContext\n",
    "from pyspark.sql import SQLContext\n",
    "from pyspark.sql.types import *\n",
    "from pyspark.sql import Row\n",
    "from pyspark.sql.functions import *\n",
    "\n",
    "%matplotlib inline\n",
    "import matplotlib.pyplot as plt\n",
    "import pandas as pd\n",
    "import numpy as np\n",
    "from time import time\n",
    "\n",
    "sqlContext = SQLContext(sc)\n",
    "base = \"/datasets/lastfm/\""
   ]
  },
  {
   "cell_type": "markdown",
   "metadata": {},
   "source": [
    "### Question 1\n",
    "\n",
    "#### Question 1.0 (Non-grading)\n",
    "\n",
    "Using SPARK SQL, load data from `/datasets/lastfm/user_artist_data.txt` and show the first 20 entries (via function `show()`).\n",
    "\n",
    "For this Notebook, from a programming point of view, we are given the schema for the data we use, which is as follows:\n",
    "\n",
    "```\n",
    "userID: long int\n",
    "artistID: long int\n",
    "playCount: int\n",
    "```\n",
    "\n",
    "Each line of the dataset contains the above three fields, separated by a \"white space\"."
   ]
  },
  {
   "cell_type": "code",
   "execution_count": 2,
   "metadata": {
    "collapsed": false
   },
   "outputs": [
    {
     "name": "stdout",
     "output_type": "stream",
     "text": [
      "+-------+--------+---------+\n",
      "| userID|artistID|playCount|\n",
      "+-------+--------+---------+\n",
      "|1000002|       1|       55|\n",
      "|1000002| 1000006|       33|\n",
      "|1000002| 1000007|        8|\n",
      "|1000002| 1000009|      144|\n",
      "|1000002| 1000010|      314|\n",
      "|1000002| 1000013|        8|\n",
      "|1000002| 1000014|       42|\n",
      "|1000002| 1000017|       69|\n",
      "|1000002| 1000024|      329|\n",
      "|1000002| 1000025|        1|\n",
      "|1000002| 1000028|       17|\n",
      "|1000002| 1000031|       47|\n",
      "|1000002| 1000033|       15|\n",
      "|1000002| 1000042|        1|\n",
      "|1000002| 1000045|        1|\n",
      "|1000002| 1000054|        2|\n",
      "|1000002| 1000055|       25|\n",
      "|1000002| 1000056|        4|\n",
      "|1000002| 1000059|        2|\n",
      "|1000002| 1000062|       71|\n",
      "+-------+--------+---------+\n",
      "only showing top 20 rows\n",
      "\n"
     ]
    }
   ],
   "source": [
    "userArtistDataSchema = StructType([ \\\n",
    "    StructField(\"userID\", LongType(), True), \\\n",
    "    StructField(\"artistID\", LongType(), True), \\\n",
    "    StructField(\"playCount\", IntegerType(), True)])\n",
    "\n",
    "userArtistDF = sqlContext.read \\\n",
    "    .format('com.databricks.spark.csv') \\\n",
    "    .options(header='false', delimiter=' ') \\\n",
    "    .load(base + \"user_artist_data.txt\", schema = userArtistDataSchema) \\\n",
    "    .cache()\n",
    "\n",
    "# we can cache an Dataframe to avoid computing it from the beginning everytime it is accessed.\n",
    "userArtistDF.cache()\n",
    "\n",
    "userArtistDF.show()"
   ]
  },
  {
   "cell_type": "markdown",
   "metadata": {},
   "source": [
    "#### Question 1.1: \n",
    "How many distinct users do we have in our data? "
   ]
  },
  {
   "cell_type": "code",
   "execution_count": 3,
   "metadata": {
    "collapsed": false
   },
   "outputs": [
    {
     "name": "stdout",
     "output_type": "stream",
     "text": [
      "All rows in database:  24296858\n",
      "Total n. of distinct users:  148111\n"
     ]
    }
   ],
   "source": [
    "allusers = userArtistDF.count()\n",
    "print(\"All rows in database: \", allusers )\n",
    "uniqueUsers = userArtistDF.select('userID').distinct().count()\n",
    "print(\"Total n. of distinct users: \", uniqueUsers)"
   ]
  },
  {
   "cell_type": "markdown",
   "metadata": {},
   "source": [
    "#### Question 1.2\n",
    "How many distinct artists do we have in our data ?"
   ]
  },
  {
   "cell_type": "code",
   "execution_count": 4,
   "metadata": {
    "collapsed": false
   },
   "outputs": [
    {
     "name": "stdout",
     "output_type": "stream",
     "text": [
      "Total n. of artists:  1631028\n"
     ]
    }
   ],
   "source": [
    "uniqueArtists = userArtistDF.select('artistID').distinct().count()\n",
    "print(\"Total n. of artists: \", uniqueArtists)"
   ]
  },
  {
   "cell_type": "markdown",
   "metadata": {},
   "source": [
    "#### Question 1.3\n",
    "\n",
    "One limitation of Spark MLlib's ALS implementation - which we will use later - is that it requires IDs for users and items to be nonnegative 32-bit integers. This means that IDs larger than Integer.MAX_VALUE, or 2147483647, can't be used. So we need to check whether this data set conforms to the strict requirements of our library.\n",
    "\n",
    "What are the maximum and minimum values of column `userID` ?\n",
    "\n",
    "HINT: Refer to section 4.3 of Laboratory 2."
   ]
  },
  {
   "cell_type": "markdown",
   "metadata": {},
   "source": [
    "```python\n",
    "userArtistDF....show()\n",
    "```"
   ]
  },
  {
   "cell_type": "code",
   "execution_count": 5,
   "metadata": {
    "collapsed": false
   },
   "outputs": [
    {
     "name": "stdout",
     "output_type": "stream",
     "text": [
      "+------+--------+---------+\n",
      "|userID|artistID|playCount|\n",
      "+------+--------+---------+\n",
      "+------+--------+---------+\n",
      "\n",
      "+------+--------+---------+\n",
      "|userID|artistID|playCount|\n",
      "+------+--------+---------+\n",
      "+------+--------+---------+\n",
      "\n",
      "+-------+------------------+\n",
      "|summary|            userID|\n",
      "+-------+------------------+\n",
      "|  count|          24296858|\n",
      "|   mean|1947573.2653533637|\n",
      "| stddev|496000.55518189067|\n",
      "|    min|                90|\n",
      "|    max|           2443548|\n",
      "+-------+------------------+\n",
      "\n"
     ]
    }
   ],
   "source": [
    "MAX_VALUE = 2147483647\n",
    "#showing the IDs which are invalid\n",
    "userArtistDF[(userArtistDF.userID.cast(\"int\") < 0)].show()\n",
    "userArtistDF[(userArtistDF.userID.cast(\"int\") > MAX_VALUE)].show()\n",
    "#As the result, we don't see any invalid userID\n",
    "#Otherwise, we can use function describe() of Spark MLlib to show the statistics\n",
    "userArtistDF.select(\"userID\").describe().show()"
   ]
  },
  {
   "cell_type": "markdown",
   "metadata": {},
   "source": [
    "#### Question 1.4\n",
    "What is the maximum and minimum values of column `artistID` ?"
   ]
  },
  {
   "cell_type": "code",
   "execution_count": 6,
   "metadata": {
    "collapsed": false
   },
   "outputs": [
    {
     "name": "stdout",
     "output_type": "stream",
     "text": [
      "Maximum value of artistID:  10794401\n",
      "Minimum value of artistID:  1\n",
      "+-------+------------------+\n",
      "|summary|          artistID|\n",
      "+-------+------------------+\n",
      "|  count|          24296858|\n",
      "|   mean|1718704.0937568964|\n",
      "| stddev|2539389.0924283676|\n",
      "|    min|                 1|\n",
      "|    max|          10794401|\n",
      "+-------+------------------+\n",
      "\n"
     ]
    }
   ],
   "source": [
    "#Finding min and max of artistID using function groupby() and max|min()\n",
    "max_artistID = userArtistDF.groupby().max('artistID').collect()[0].asDict()['max(artistID)']\n",
    "print('Maximum value of artistID: ',max_artistID)\n",
    "min_artistID = userArtistDF.groupby().min('artistID').collect()[0].asDict()['min(artistID)']\n",
    "print('Minimum value of artistID: ',min_artistID)\n",
    "\n",
    "#Again, we can use describe() for short\n",
    "userArtistDF.select(\"artistID\").describe().show()"
   ]
  },
  {
   "cell_type": "markdown",
   "metadata": {},
   "source": [
    "We just discovered that we have a total of 148,111 users in our dataset. Similarly, we have a total of 1,631,028 artists in our dataset. The maximum values of `userID` and `artistID` are still smaller than the biggest number of integer type.  No additional transformation will be necessary to use these IDs.\n",
    "\n",
    "One thing we can see here is that SPARK SQL provides very concise and powerful methods for data analytics (compared to using RDD and their low-level API). You can see more examples [here](https://databricks.com/blog/2015/06/02/statistical-and-mathematical-functions-with-dataframes-in-spark.html)."
   ]
  },
  {
   "cell_type": "markdown",
   "metadata": {},
   "source": [
    "Next, we might want to understand better user activity and artist popularity.\n",
    "\n",
    "Here is a list of simple descriptive queries that helps us reaching these purposes:\n",
    "\n",
    "* How many times each user has played a song? This is a good indicator of who are the most active users of our service. Note that a very active user with many play counts does not necessarily mean that the user is also \"curious\"! Indeed, she could have played the same song several times.\n",
    "* How many play counts for each artist? This is a good indicator of the artist popularity. Since we do not have time information associated to our data, we can only build a, e.g., top-10 ranking of the most popular artists in the dataset. Later in the notebook, we will learn that our dataset has a very \"loose\" definition about artists: very often artist IDs point to song titles as well. This means we have to be careful when establishing popular artists. Indeed, artists whose data is \"well formed\" will have the correct number of play counts associated to them. Instead, artists that appear mixed with song titles may see their play counts \"diluted\" across their songs."
   ]
  },
  {
   "cell_type": "markdown",
   "metadata": {},
   "source": [
    "### Question 2\n",
    "\n",
    "#### Question 2.1\n",
    "How many times each user has played a song? Show 5 samples of the result."
   ]
  },
  {
   "cell_type": "code",
   "execution_count": 8,
   "metadata": {
    "collapsed": false
   },
   "outputs": [
    {
     "name": "stdout",
     "output_type": "stream",
     "text": [
      "[Row(userID=1066825, sum(playCount)=4), Row(userID=1068108, sum(playCount)=4506), Row(userID=1070733, sum(playCount)=14631), Row(userID=1070807, sum(playCount)=3), Row(userID=1071739, sum(playCount)=3279)]\n"
     ]
    },
    {
     "data": {
      "text/plain": [
       "148111"
      ]
     },
     "execution_count": 8,
     "metadata": {},
     "output_type": "execute_result"
    }
   ],
   "source": [
    "# Compute user activity\n",
    "# We are interested in how many playcounts each user has scored.\n",
    "userActivity = userArtistDF.groupBy('userID').sum('playCount').collect()\n",
    "print(userActivity[0:5])\n",
    "len(userActivity)"
   ]
  },
  {
   "cell_type": "markdown",
   "metadata": {},
   "source": [
    "#### Question 2.2\n",
    "Plot CDF (or ECDF) of the number of play counts per User ID.\n",
    "\n",
    "Explain and comment the figure you just created: \n",
    "\n",
    "* for example, look at important percentiles (25%, median, 75%, tails such as >90%) and cross check with what you have found above to figure out if the result is plausible.\n",
    "* discuss about your users, with respect to the application domain we target in the notebook: you will notice that for some users, there is very little interaction with the system, which means that maybe reccommending something to them is going to be more difficult than for other users who interact more with the system.\n",
    "* look at outliers and reason about their impact on your reccommender algorithm"
   ]
  },
  {
   "cell_type": "code",
   "execution_count": 20,
   "metadata": {
    "collapsed": false
   },
   "outputs": [
    {
     "name": "stdout",
     "output_type": "stream",
     "text": [
      "[     0      1      2 ..., 148108 148109 148110]\n"
     ]
    },
    {
     "data": {
      "image/png": "iVBORw0KGgoAAAANSUhEUgAAAYgAAAEeCAYAAACQfIJ4AAAABHNCSVQICAgIfAhkiAAAAAlwSFlz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\nCUJERDL6/znmx7vxhNa0AAAAAElFTkSuQmCC\n",
      "text/plain": [
       "<matplotlib.figure.Figure at 0x7f1d7ef52ac8>"
      ]
     },
     "metadata": {},
     "output_type": "display_data"
    },
    {
     "name": "stdout",
     "output_type": "stream",
     "text": [
      "Total = 371638969\n",
      "Mean = 2509.1922207\n",
      "Min = 1\n",
      "Max = 674412\n",
      "Percentile 25% :204.0\n",
      "Percentile 50% :892.0\n",
      "Percentile 75% :2800.0\n",
      "Percentile 90% :6484.0\n",
      "Percentile 95% :10120.0\n",
      "Percentile 99% :21569.2\n",
      "The percentage of user playing less than 10 times P(Y<=10) = 0.05228511049145573\n"
     ]
    }
   ],
   "source": [
    "pdf = pd.DataFrame(data=userActivity)\n",
    "Y=np.sort( pdf[1] )\n",
    "yvals=np.arange(len(Y))/float(len(Y))\n",
    "\n",
    "print(np.arange(len(Y)))\n",
    "\n",
    "plt.semilogx( Y, yvals )\n",
    "plt.xlabel('Play Counts')\n",
    "plt.ylabel('ECDF')\n",
    "plt.grid(True,which=\"both\",ls=\"-\")\n",
    "plt.title('ECDF of number of play counts per User ID')\n",
    "plt.show()\n",
    "\n",
    "#Morever, I would like to show some statistical measurements of userAcitvity\n",
    "print ('Total =', Y.sum())\n",
    "print ('Mean =', Y.mean())\n",
    "print ('Min =', Y.min())\n",
    "print ('Max =', Y.max())\n",
    "\n",
    "# look at important percentiles (25%, median, 75%, tails such as >90%)\n",
    "print('Percentile 25% :' + str(np.percentile(Y,25)))\n",
    "print('Percentile 50% :' + str(np.percentile(Y,50)))\n",
    "print('Percentile 75% :' + str(np.percentile(Y,75)))\n",
    "print('Percentile 90% :' + str(np.percentile(Y,90)))\n",
    "print('Percentile 95% :' + str(np.percentile(Y,95)))\n",
    "print('Percentile 99% :' + str(np.percentile(Y,99)))\n",
    "\n",
    "# look at the percentile has playCount less than 10\n",
    "print('The percentage of user playing less than 10 times P(Y<=10) =', len(Y[Y<=10])/len(Y))"
   ]
  },
  {
   "cell_type": "markdown",
   "metadata": {},
   "source": [
    "### We have total 371638969 play counts. \n",
    "#### In average, every user plays 2509 times.\n",
    "#### 25% of the users have the play counts less than or equal to (<=) 204 times.\n",
    "#### 50% of the users have the play counts less than or equal to (<=) 892times.\n",
    "#### 75% of the users have the play counts less than or equal to (<=) 2800 times.\n",
    "#### 95% of the users have the play counts less than or equal to (<=) 10120 times.\n",
    "#### 99% of the users have the play counts less than or equal to (<=) 21569 times.\n",
    "## The result is plausible with the figure above.\n",
    "\n",
    "### About 7746 users (5.23%) have the play counts less than or equal to (<=) 10 times. These users have very little interaction with the system, so there is more difficult for recommending for these users than other users creating more impact in the system (have a certain number of playCount). "
   ]
  },
  {
   "cell_type": "markdown",
   "metadata": {},
   "source": [
    "#### Question 2.3\n",
    "\n",
    "How many play counts for each artist? Plot CDF or ECDF of the result.\n",
    "\n",
    "Similarly to the previous question, you need to comment and interpret your result: what is the figure telling you?"
   ]
  },
  {
   "cell_type": "code",
   "execution_count": 22,
   "metadata": {
    "collapsed": false
   },
   "outputs": [
    {
     "name": "stdout",
     "output_type": "stream",
     "text": [
      "[Row(artistID=1003514, sum(playCount)=949), Row(artistID=1004346, sum(playCount)=3772), Row(artistID=5409, sum(playCount)=526693), Row(artistID=1002519, sum(playCount)=405), Row(artistID=1004223, sum(playCount)=409)]\n"
     ]
    },
    {
     "data": {
      "text/plain": [
       "1631028"
      ]
     },
     "execution_count": 22,
     "metadata": {},
     "output_type": "execute_result"
    }
   ],
   "source": [
    "# Compute artist popularity\n",
    "# We are interested in how many playcounts per artist\n",
    "# ATTENTION! Grouping by artistID may be problematic, as stated above.\n",
    "\n",
    "artistPopularity = userArtistDF.groupBy('artistID').sum('playCount').collect()\n",
    "print(artistPopularity[0:5]) #print first 5 artistID in dataframe\n",
    "len(artistPopularity)"
   ]
  },
  {
   "cell_type": "code",
   "execution_count": 30,
   "metadata": {
    "collapsed": false
   },
   "outputs": [
    {
     "name": "stdout",
     "output_type": "stream",
     "text": [
      "[      0       1       2 ..., 1631025 1631026 1631027]\n"
     ]
    },
    {
     "data": {
      "image/png": "iVBORw0KGgoAAAANSUhEUgAAAYgAAAEeCAYAAACQfIJ4AAAABHNCSVQICAgIfAhkiAAAAAlwSFlz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\nRK5CYII=\n",
      "text/plain": [
       "<matplotlib.figure.Figure at 0x7f1d6c693588>"
      ]
     },
     "metadata": {},
     "output_type": "display_data"
    },
    {
     "name": "stdout",
     "output_type": "stream",
     "text": [
      "Sum = 371638969\n",
      "Mean = 227.855664648\n",
      "Min = 1\n",
      "Max = 2502130\n",
      "Top 5 play counts: [1425942 1542806 1930592 2259185 2502130]\n",
      "Sum top 5 artist play counts: 9660655\n",
      "Percentage of top 5 artist play counts: 0.0259947309239\n",
      "P(playCount<=10) = 0.7486793605014751\n",
      "P(playCount<=1000) = 0.987435531456235\n"
     ]
    }
   ],
   "source": [
    "pdf1 = pd.DataFrame(data=artistPopularity)\n",
    "Y1=np.sort( pdf1[1] )\n",
    "yvals1=np.arange(len(Y1))/float(len(Y1))\n",
    "\n",
    "print(np.arange(len(Y1)))\n",
    "\n",
    "plt.semilogx( Y1, yvals1 )\n",
    "plt.xlabel('Play Counts')\n",
    "plt.ylabel('ECDF')\n",
    "plt.grid(True,which=\"both\",ls=\"-\")\n",
    "plt.title('ECDF of number of play counts per artist ID')\n",
    "plt.show()\n",
    "\n",
    "\n",
    "\n",
    "#\n",
    "print ('Sum =', Y1.sum())\n",
    "print ('Mean =', Y1.mean())\n",
    "print ('Min =', Y1.min())\n",
    "print ('Max =', Y1.max())\n",
    "print ('Top 5 play counts:', Y1[len(Y1)-5:len(Y1)])\n",
    "print ('Sum top 5 artist play counts:', Y1[len(Y1)-5:len(Y1)].sum())\n",
    "print ('Percentage of top 5 artist play counts:', Y1[len(Y1)-5:len(Y1)].sum()/Y1.sum())\n",
    "print ('P(playCount<=10) =', len(Y1[Y1<=10])/len(Y1))\n",
    "print ('P(playCount<=1000) =', len(Y1[Y1<=1000])/len(Y1))"
   ]
  },
  {
   "cell_type": "markdown",
   "metadata": {},
   "source": [
    "## Answer question 2.3:\n",
    "### Total 371638969 play counts. In average, playCount per artist is 227 times\n",
    "\n",
    "### Only 74.87% of the artists is played less than or equal to (<=) 10 times.\n",
    "### And 98.74% of the artists is played less than or equal to (<=) 1000 times.\n",
    "\n",
    "#### In the other hand, we have top 5 artist play counts: [1425942 1542806 1930592 2259185 2502130]. This accounts for 2.6% on overall number of playCount (5 out of 1631028 artists). This percentage implies that we can globally predict most-played artists to every user, and still get high performance. "
   ]
  },
  {
   "cell_type": "markdown",
   "metadata": {},
   "source": [
    "#### Question 2.4\n",
    "Plot a bar chart to show top 5 artists In terms of absolute play counts.\n",
    "\n",
    "Comment the figure you just obtained:\n",
    "\n",
    "* are these reasonable results?\n",
    "* is looking at top-5 artists enough to learn more about your data?\n",
    "* do you see anything strange in the data?"
   ]
  },
  {
   "cell_type": "code",
   "execution_count": 36,
   "metadata": {
    "collapsed": false
   },
   "outputs": [
    {
     "data": {
      "image/png": "iVBORw0KGgoAAAANSUhEUgAAAbAAAAEZCAYAAAD2XXAMAAAABHNCSVQICAgIfAhkiAAAAAlwSFlz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\ngJmZWZb+P0M7881PighqAAAAAElFTkSuQmCC\n",
      "text/plain": [
       "<matplotlib.figure.Figure at 0x7f4246c23668>"
      ]
     },
     "metadata": {},
     "output_type": "display_data"
    }
   ],
   "source": [
    "sortedArtist = sorted(artistPopularity, key = lambda x: -x[1])[:5]\n",
    "\n",
    "artistID = [w[0] for w in sortedArtist]\n",
    "\n",
    "y_pos = range(len(sortedArtist))\n",
    "frequency = [w[1] for w in sortedArtist]\n",
    "\n",
    "plt.barh(y_pos, frequency[::-1], align='center', alpha=0.4)\n",
    "plt.yticks(y_pos, artistID[::-1])\n",
    "plt.xlabel('Play Count')\n",
    "plt.ylabel('Artist')\n",
    "plt.title('Top-5 Artist ID per play counts')\n",
    "plt.show()"
   ]
  },
  {
   "cell_type": "markdown",
   "metadata": {},
   "source": [
    "## Answer question 2.4:\n",
    "### This resuls seem not reasonable. \n",
    "### In the previous, 98.74% of the artists have the play count less than or equal to (<=) 1000 times. So, top-5-artists is not sufficient to extract infomation about the data. We should \n",
    "\n",
    "#### As the result question 2.3, top-5-artists take about 2.6% of the total play counts, but 98.74% of the artists have the play count less than or equal to (<=) 1000 times. Then this is obviously that some artists are played much more than other artists. "
   ]
  },
  {
   "cell_type": "markdown",
   "metadata": {},
   "source": [
    "All seems clear right now, but ... wait a second! What about the problems indicated above about artist \"disambiguation\"? Are these artist ID we are using referring to unique artists? How can we make sure that such \"opaque\" identifiers point to different bands? Let's try to use some additional dataset to answer this question:  `artist_data.txt` dataset. This time, the schema of the dataset consists in:\n",
    "\n",
    "```\n",
    "artist ID: long int\n",
    "name: string\n",
    "```\n",
    "\n",
    "We will try to find whether a single artist has two different IDs."
   ]
  },
  {
   "cell_type": "markdown",
   "metadata": {},
   "source": [
    "### Question 3\n",
    "\n",
    "#### Question 3.1\n",
    "Load the data from `/datasets/lastfm/artist_data.txt` and use the SparkSQL API to show 5 samples.\n",
    "\n",
    "HINT: If you encounter some error when parsing lines in data because of invalid entries, parameter `mode='DROPMALFORMED'` will help you to eliminate these entries. The suggested syntax is: `<df>.options(header='false', delimiter='\\t', mode='DROPMALFORMED')`."
   ]
  },
  {
   "cell_type": "code",
   "execution_count": 31,
   "metadata": {
    "collapsed": false
   },
   "outputs": [
    {
     "name": "stdout",
     "output_type": "stream",
     "text": [
      "+--------+--------------------+\n",
      "|artistID|                name|\n",
      "+--------+--------------------+\n",
      "| 1134999|        06Crazy Life|\n",
      "| 6821360|        Pang Nakarin|\n",
      "|10113088|Terfel, Bartoli- ...|\n",
      "|10151459| The Flaming Sidebur|\n",
      "| 6826647|   Bodenstandig 3000|\n",
      "+--------+--------------------+\n",
      "only showing top 5 rows\n",
      "\n"
     ]
    }
   ],
   "source": [
    "customSchemaArtist = StructType([ \\\n",
    "    StructField(\"artistID\", LongType(), True), \\\n",
    "    StructField(\"name\", StringType(), True)])\n",
    "\n",
    "artistDF = sqlContext.read \\\n",
    "    .format('com.databricks.spark.csv') \\\n",
    "    .options(header='false', delimiter='\\t', mode='DROPMALFORMED') \\\n",
    "    .load(base + \"artist_data.txt\", schema = customSchemaArtist) \\\n",
    "    .cache()\n",
    "artistDF.show(5)"
   ]
  },
  {
   "cell_type": "markdown",
   "metadata": {},
   "source": [
    "#### Question 3.2\n",
    "Find 20 artists whose name contains \"Aerosmith\". Take a look at artists that have ID equal to `1000010` and `2082323`. In your opinion, are they pointing to the same artist?\n",
    "\n",
    "HINT: Function `locate(sub_string, string)` can be useful in this case."
   ]
  },
  {
   "cell_type": "code",
   "execution_count": 32,
   "metadata": {
    "collapsed": false,
    "scrolled": false
   },
   "outputs": [
    {
     "name": "stdout",
     "output_type": "stream",
     "text": [
      "+--------+--------------------+\n",
      "|artistID|                name|\n",
      "+--------+--------------------+\n",
      "|10586006|Dusty Springfield...|\n",
      "| 6946007|    Aerosmith/RunDMC|\n",
      "|10475683|Aerosmith: Just P...|\n",
      "| 1083031|    Aerosmith/ G n R|\n",
      "| 6872848|Britney, Nsync, N...|\n",
      "|10586963|Green Day - Oasis...|\n",
      "|10028830|The Aerosmith Ant...|\n",
      "|10300357| Run-DMC + Aerosmith|\n",
      "| 2027746|Aerosmith by Musi...|\n",
      "| 1140418|[rap]Run DMC and ...|\n",
      "|10237208| Aerosmith + Run DMC|\n",
      "|10588537|Aerosmith, Kid Ro...|\n",
      "| 9934757|Aerosmith - Big Ones|\n",
      "|10437510|Green Day ft. Oas...|\n",
      "| 6936680| RUN DNC & Aerosmith|\n",
      "|10479781|      Aerosmith Hits|\n",
      "|10114147|Charlies Angels -...|\n",
      "| 1262439|Kid Rock, Run DMC...|\n",
      "| 7032554|Aerosmith & Run-D...|\n",
      "|10033592|          Aerosmith?|\n",
      "+--------+--------------------+\n",
      "only showing top 20 rows\n",
      "\n",
      "+--------+---------+\n",
      "|artistID|     name|\n",
      "+--------+---------+\n",
      "| 1000010|Aerosmith|\n",
      "+--------+---------+\n",
      "\n",
      "+--------+------------+\n",
      "|artistID|        name|\n",
      "+--------+------------+\n",
      "| 2082323|01 Aerosmith|\n",
      "+--------+------------+\n",
      "\n"
     ]
    }
   ],
   "source": [
    "# get artists whose name contains \"Aerosmith\"\n",
    "artistDF[locate(\"Aerosmith\", artistDF.name) > 0].show(20)\n",
    "\n",
    "# show two examples\n",
    "artistDF[artistDF.artistID==1000010].show()\n",
    "artistDF[artistDF.artistID==2082323].show()"
   ]
  },
  {
   "cell_type": "markdown",
   "metadata": {},
   "source": [
    "## Answer question 3.2: In my opinion, they are pointing to the same artist"
   ]
  },
  {
   "cell_type": "markdown",
   "metadata": {},
   "source": [
    "To answer this question correctly, we need to use an additional dataset `artist_alias.txt` which contains the ids of mispelled artists and standard artists. The schema of the dataset consists in:\n",
    "\n",
    "```\n",
    "mispelledID ID: long int\n",
    "standard ID: long int\n",
    "```"
   ]
  },
  {
   "cell_type": "markdown",
   "metadata": {},
   "source": [
    "#### Question 3.3\n",
    "Using SparkSQL API, load the dataset from `/datasets/lastfm/artist_alias.txt` then show 5 samples."
   ]
  },
  {
   "cell_type": "code",
   "execution_count": 33,
   "metadata": {
    "collapsed": false
   },
   "outputs": [
    {
     "name": "stdout",
     "output_type": "stream",
     "text": [
      "+-----------+----------+\n",
      "|mispelledID|standardID|\n",
      "+-----------+----------+\n",
      "|    1092764|   1000311|\n",
      "|    1095122|   1000557|\n",
      "|    6708070|   1007267|\n",
      "|   10088054|   1042317|\n",
      "|    1195917|   1042317|\n",
      "+-----------+----------+\n",
      "only showing top 5 rows\n",
      "\n"
     ]
    }
   ],
   "source": [
    "customSchemaArtistAlias = StructType([ \\\n",
    "    StructField(\"mispelledID\", LongType(), True), \\\n",
    "    StructField(\"standardID\", LongType(), True)])\n",
    "\n",
    "artistAliasDF = sqlContext.read \\\n",
    "    .format('com.databricks.spark.csv') \\\n",
    "    .options(header='false', delimiter='\\t', mode='DROPMALFORMED') \\\n",
    "    .load(base + \"artist_alias.txt\", schema = customSchemaArtistAlias) \\\n",
    "    .cache()\n",
    "\n",
    "artistAliasDF.show(5)"
   ]
  },
  {
   "cell_type": "markdown",
   "metadata": {},
   "source": [
    "#### Question 3.4\n",
    "Verify the answer of question 3.2 (\"Are artists that have ID equal to `1000010` and `2082323` the same ?\") by finding the standard ids corresponding to the mispelled ids `1000010` and `2082323` respectively."
   ]
  },
  {
   "cell_type": "code",
   "execution_count": 34,
   "metadata": {
    "collapsed": false
   },
   "outputs": [
    {
     "name": "stdout",
     "output_type": "stream",
     "text": [
      "+-----------+----------+\n",
      "|mispelledID|standardID|\n",
      "+-----------+----------+\n",
      "+-----------+----------+\n",
      "\n",
      "+-----------+----------+\n",
      "|mispelledID|standardID|\n",
      "+-----------+----------+\n",
      "|    2082323|   1000010|\n",
      "+-----------+----------+\n",
      "\n"
     ]
    }
   ],
   "source": [
    "artistAliasDF[artistAliasDF.mispelledID == \"1000010\" ].show()\n",
    "artistAliasDF[artistAliasDF.mispelledID == \"2082323\" ].show()\n",
    "\n",
    "# 1000010 is a standard id, so it haven't been considered as mispelled id in the dataset"
   ]
  },
  {
   "cell_type": "markdown",
   "metadata": {},
   "source": [
    "## Answer question 3.4: \n",
    "### After evaluating mispelledID, my guess is correct because the artistID = \"2082323\" has standardID=\"1000010\", which means representing the same artist"
   ]
  },
  {
   "cell_type": "markdown",
   "metadata": {},
   "source": [
    "### Question 4\n",
    "\n",
    "The mispelled or nonstandard information about artist make our results in the previous queries a bit \"sloppy\". To overcome this problem, we can replace all mispelled artist ids by the corresponding standard ids and re-compute the basic descriptive statistics on the \"amended\" data.\n",
    "First, we construct a \"dictionary\" that maps non-standard ids to a standard ones. Then this \"dictionary\" will be used to replace the mispelled artists.\n",
    "\n",
    "#### Question 4.1\n",
    "From data in the dataframe loaded from `/datasets/lastfm/artist_alias.txt`, construct a dictionary that maps each non-standard id to its standard id.\n",
    "\n",
    "HINT: Instead of using function `collect`, we can use `collectAsMap` to convert the collected data to a dictionary inline."
   ]
  },
  {
   "cell_type": "code",
   "execution_count": 35,
   "metadata": {
    "collapsed": false
   },
   "outputs": [
    {
     "data": {
      "text/plain": [
       "190893"
      ]
     },
     "execution_count": 35,
     "metadata": {},
     "output_type": "execute_result"
    }
   ],
   "source": [
    "artistAlias = artistAliasDF.rdd.map(lambda row: (row.mispelledID,row.standardID)).collectAsMap()\n",
    "\n",
    "artistAlias.items()\n",
    "\n",
    "#checking the total number of standard artistID\n",
    "len(artistAlias)"
   ]
  },
  {
   "cell_type": "markdown",
   "metadata": {},
   "source": [
    "## Answer quetion 4.1:\n",
    "\n",
    "### The total number row of the dictionary now 190893 artists.  This gives me the lesson that we should standalize the field of the data which more likely to create ambiguity"
   ]
  },
  {
   "cell_type": "markdown",
   "metadata": {},
   "source": [
    "#### Question 4.2\n",
    "Using the constructed dictionary in question 4.1, replace the non-standard artist ids in the dataframe that was loaded from `/datasets/lastfm/user_artist_data.txt` by the corresponding standard ids then show 5 samples.\n",
    "\n",
    "**NOTE 1**: If an id doesn't exist in the dictionary as a mispelled id, it is really a standard id.\n",
    "\n",
    "\n",
    "Using funtion `map` on Spark Dataframe will give us an RDD. We can convert this RDD back to Dataframe by using `sqlContext.createDataFrame(rdd_name, sql_schema)`\n",
    "\n",
    "\n",
    "**NOTE 2**: be careful! you need to be able to verify that you indeed solved the problem of having bad artist IDs. In principle, for the new data to be correct, we should to have duplicate pairs (user, artist), potentially with different play counts, right? In answering the question, please **show** that you indeed fixed the problem. "
   ]
  },
  {
   "cell_type": "code",
   "execution_count": 36,
   "metadata": {
    "collapsed": false
   },
   "outputs": [
    {
     "name": "stdout",
     "output_type": "stream",
     "text": [
      "+-------+--------+---------+\n",
      "| userID|artistID|playCount|\n",
      "+-------+--------+---------+\n",
      "|1000002|       1|       55|\n",
      "|1000002| 1000006|       33|\n",
      "|1000002| 1000007|        8|\n",
      "|1000002| 1000009|      144|\n",
      "|1000002| 1000010|      314|\n",
      "+-------+--------+---------+\n",
      "only showing top 5 rows\n",
      "\n",
      "The script takes 1.330875 seconds\n"
     ]
    }
   ],
   "source": [
    "from time import time\n",
    "\n",
    "def replaceMispelledIDs(fields):\n",
    "    finalID = artistAlias.get(fields[1], fields[1])\n",
    "    return (fields[0], finalID, fields[2])\n",
    "\n",
    "t0 = time()\n",
    "\n",
    "newUserArtistDF = sqlContext.createDataFrame(\n",
    "    userArtistDF.rdd.map(replaceMispelledIDs), \n",
    "    userArtistDataSchema\n",
    ")\n",
    "newUserArtistDF.show(5)\n",
    "\n",
    "t1 = time()\n",
    "\n",
    "print('The script takes %f seconds' %(t1-t0))"
   ]
  },
  {
   "cell_type": "markdown",
   "metadata": {},
   "source": [
    "#### Question 4.3\n",
    "Spark actions are executed through a set of stages, separated by distributed \"shuffle\" operations. Spark can be instructed to **automatically and efficiently** broadcast common data needed by tasks within **each stage**. The data broadcasted this way is cached in **serialized form** and deserialized before running each task. \n",
    "\n",
    "We can thus improve our answer to question 4.2: we can reduce the communication cost by shipping the \"dictionary\" in a more efficient way by using `broadcast variable`. Broadcast variables allow the programmer to keep a read-only variable cached on **each machine** rather than shipping a copy of it with tasks. They are cached in deserialized form. They can be used, for example, to give every node a copy of a large input dataset in an efficient manner. \n",
    "\n",
    "The broadcast of variable `v` can be created by `bV = sc.broadcast(v)`. Then value of this broadcast variable can be access via `bV.value`\n",
    "\n",
    "To question is then: using a broadcast variable, modify the script in question 4.2 to get better performance in terms of running time.\n"
   ]
  },
  {
   "cell_type": "code",
   "execution_count": 43,
   "metadata": {
    "collapsed": false
   },
   "outputs": [
    {
     "name": "stdout",
     "output_type": "stream",
     "text": [
      "+-------+--------+---------+\n",
      "| userID|artistID|playCount|\n",
      "+-------+--------+---------+\n",
      "|1000002|       1|       55|\n",
      "|1000002| 1000006|       33|\n",
      "|1000002| 1000007|        8|\n",
      "|1000002| 1000009|      144|\n",
      "|1000002| 1000010|      314|\n",
      "+-------+--------+---------+\n",
      "only showing top 5 rows\n",
      "\n",
      "The script takes 0.279308 seconds\n"
     ]
    }
   ],
   "source": [
    "from time import time\n",
    "\n",
    "bArtistAlias = sc.broadcast(artistAlias)\n",
    "\n",
    "def replaceMispelledIDs(fields):\n",
    "    finalID = bArtistAlias.value.get(fields[1] ,fields[1])\n",
    "    return (fields[0], finalID, fields[2])\n",
    "\n",
    "t0 = time()\n",
    "\n",
    "newUserArtistDF = sqlContext.createDataFrame(\n",
    "    userArtistDF.rdd.map(replaceMispelledIDs), \n",
    "    userArtistDataSchema\n",
    ")\n",
    "newUserArtistDF.show(5)\n",
    "t1 = time()\n",
    "\n",
    "print('The script takes %f seconds' %(t1-t0))\n",
    "newUserArtistDF = newUserArtistDF.cache()"
   ]
  },
  {
   "cell_type": "markdown",
   "metadata": {},
   "source": [
    "Although having some advantages, explicitly creating broadcast variables is only useful when tasks across multiple stages need the same data or when caching the data in deserialized form is important."
   ]
  },
  {
   "cell_type": "markdown",
   "metadata": {},
   "source": [
    "### Question 5\n",
    "\n",
    "Well, our data frame contains clean and \"standard\" data. We can use it to redo previous statistic queries.\n",
    "\n",
    "#### Question 5.1\n",
    "\n",
    "How many unique artists? Compare with the result when using old data."
   ]
  },
  {
   "cell_type": "code",
   "execution_count": 44,
   "metadata": {
    "collapsed": false
   },
   "outputs": [
    {
     "name": "stdout",
     "output_type": "stream",
     "text": [
      "Total n. of artists:  1568126\n"
     ]
    }
   ],
   "source": [
    "uniqueArtists = newUserArtistDF.select('artistID').distinct().count()\n",
    "\n",
    "print(\"Total n. of artists: \", uniqueArtists)"
   ]
  },
  {
   "cell_type": "markdown",
   "metadata": {},
   "source": [
    "## Answer for question 5.1\n",
    "### The number of artists is reduced (from 1631028 to 1568126).\n"
   ]
  },
  {
   "cell_type": "markdown",
   "metadata": {},
   "source": [
    "#### Question 5.2\n",
    "\n",
    "Who are the top-10 artistis?\n",
    "  * In terms of absolute play counts\n",
    "  * In terms of \"audience size\", that is, how many users listened to one of their track at least once\n",
    "  \n",
    "Plot the results, and explain the figures you obtain."
   ]
  },
  {
   "cell_type": "code",
   "execution_count": 46,
   "metadata": {
    "collapsed": false
   },
   "outputs": [
    {
     "data": {
      "image/png": "iVBORw0KGgoAAAANSUhEUgAAAbAAAAEZCAYAAAD2XXAMAAAABHNCSVQICAgIfAhkiAAAAAlwSFlz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\nK6T/D1IDpFp97sOPAAAAAElFTkSuQmCC\n",
      "text/plain": [
       "<matplotlib.figure.Figure at 0x7f1d6c00c5f8>"
      ]
     },
     "metadata": {},
     "output_type": "display_data"
    }
   ],
   "source": [
    "# calculate top-10 artists in term of play counts\n",
    "top10ArtistsPC = newUserArtistDF.groupBy('artistID').sum('playCount').orderBy('sum(playCount)', ascending=0).take(10)\n",
    "\n",
    "y_pos = list(range(len(top10ArtistsPC)))\n",
    "pdf = pd.DataFrame(data=top10ArtistsPC)\n",
    "\n",
    "plt.barh(y_pos, pdf[1][::-1], align='center', alpha=0.4)\n",
    "plt.yticks(y_pos, pdf[0][::-1])\n",
    "plt.xlabel('Play Count')\n",
    "plt.ylabel('Artist')\n",
    "plt.title('Top-10 Artist ID per play counts')\n",
    "plt.show()"
   ]
  },
  {
   "cell_type": "markdown",
   "metadata": {},
   "source": [
    "## Answer question 5.2:\n",
    "\n",
    "## After removing all mispelledID, there is little increase in playCounts of top-10-artists.\n",
    "#### Here I show the comparison on playCount of top 10 artist before and after removing mispelledID\n",
    "#### artistID=979: 2502130 -> 2502596.\n",
    "#### artistID=1000113: 2259185 -> 2259825.\n",
    "#### artistID=4267: 1930592 -> 1931143.\n",
    "#### artistID=1000024: 1542806 -> 1543430.\n",
    "#### artistID=4468: 1425942 -> 1426254. \n",
    "#### artistID=82: 1399418 -> 1399665.\n",
    "#### artistID=831: 1361392 -> 1361977.\n",
    "#### artistID=1001779: 1328869 -> 1328969.\n",
    "#### artistID=1000130: 1234387 -> 1234773.\n",
    "#### artistID=976: 1203226 -> 1203348. \n",
    "\n",
<<<<<<< HEAD
    "### The chart shows that playCount dramatiaclly decreases from the 1st artist to the 4th artist in top-10-artists, but from the 4th artist to 10th artist, it decreases slightly. "
=======
    "### The chart shows that playCount decreases fast from the 1st artist to the 4th artist in top-10-artists, but from the 4th artist to 10th artist, it decreases slowly. "
>>>>>>> 3f41190ae29a3a4943a7f3a55dd5c8bd471282b4
   ]
  },
  {
   "cell_type": "markdown",
   "metadata": {},
   "source": [
    "#### Question 5.3\n",
    "\n",
    "Who are the top-10 users?\n",
    "  * In terms of absolute play counts\n",
    "  * In terms of \"curiosity\", that is, how many different artists they listened to\n",
    "\n",
    "Plot the results"
   ]
  },
  {
   "cell_type": "code",
   "execution_count": 52,
   "metadata": {
    "collapsed": false
   },
   "outputs": [
    {
     "data": {
      "image/png": "iVBORw0KGgoAAAANSUhEUgAAAa0AAAEZCAYAAAAkDXpUAAAABHNCSVQICAgIfAhkiAAAAAlwSFlz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\nQSsiIhrj/wfgblYyVxYcvAAAAABJRU5ErkJggg==\n",
      "text/plain": [
       "<matplotlib.figure.Figure at 0x7f1d6b93bf28>"
      ]
     },
     "metadata": {},
     "output_type": "display_data"
    }
   ],
   "source": [
    "# calculate top 10 users in term of play counts\n",
    "top10UsersByPlayCount = newUserArtistDF.groupBy(\"userID\").sum('playCount').orderBy('sum(playCount)', ascending=0).take(10)\n",
    "\n",
    "y_pos = list(range(len(top10UsersByPlayCount)))\n",
    "pdf = pd.DataFrame(data=top10UsersByPlayCount)\n",
    "\n",
    "plt.barh(y_pos, pdf[1][::-1], align='center', alpha=0.4)\n",
    "plt.yticks(y_pos, pdf[0][::-1])\n",
    "plt.xlabel('Play Count') \n",
    "plt.ylabel('User')\n",
    "plt.title('Top-10 Users ID per play counts')\n",
    "plt.show()"
   ]
  },
  {
   "cell_type": "code",
   "execution_count": 49,
   "metadata": {
    "collapsed": false
   },
   "outputs": [
    {
     "name": "stdout",
     "output_type": "stream",
     "text": [
      "[Row(userID=2030067, count=6735), Row(userID=1024631, count=6125), Row(userID=1059334, count=5839), Row(userID=2016026, count=5773), Row(userID=2023686, count=4822), Row(userID=1045464, count=4734), Row(userID=1004584, count=4690), Row(userID=2010008, count=4411), Row(userID=2232770, count=4090), Row(userID=1006093, count=4005)]\n"
     ]
    },
    {
     "data": {
      "image/png": "iVBORw0KGgoAAAANSUhEUgAAAa0AAAEZCAYAAAAkDXpUAAAABHNCSVQICAgIfAhkiAAAAAlwSFlz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\n",
      "text/plain": [
       "<matplotlib.figure.Figure at 0x7f1d6b9054e0>"
      ]
     },
     "metadata": {},
     "output_type": "display_data"
    }
   ],
   "source": [
    "top10UsersByCuriosity = (newUserArtistDF.dropDuplicates(['userID', 'artistID'])\n",
    "                             .groupBy(\"userID\")\n",
    "                             .count()\n",
    "                             .orderBy('count', ascending=0)\n",
    "                             .take(10)\n",
    "                         )\n",
    "\n",
    "print(top10UsersByCuriosity)\n",
    "y_pos = range(len(top10UsersByCuriosity))\n",
    "\n",
    "pd.DataFrame(data=top10UsersByCuriosity)\n",
    "\n",
    "plt.barh(y_pos, pdf[1][::-1], align='center', alpha=0.4)\n",
    "plt.yticks(y_pos, pdf[0][::-1])\n",
    "plt.xlabel('Number of played artists')\n",
    "plt.ylabel('User')\n",
    "plt.title('Top-10 Users ID per Curiosity')\n",
    "plt.show()\n"
   ]
  },
  {
   "cell_type": "markdown",
   "metadata": {},
   "source": [
    "Now we have some valuable information about the data. It's the time to study how to build a statistical models."
   ]
  },
  {
   "cell_type": "markdown",
   "metadata": {},
   "source": [
    "# 2. Build a statistical models to make recommendations\n",
    "\n",
    "## 2.1 Introduction to recommender systems\n",
    "\n",
    "In a recommendation-system application there are two classes of entities, which we shall refer to as `users` and `items`. Users have preferences for certain items, and these preferences must be inferred from the data. The data itself is represented as a `preference matrix` $A$, giving for each user-item pair, a value that represents what is known about the degree of preference of that user for that item. The table below is an example for a `preference matrix` of 5 users and `k` items. The `preference matrix` is also known as `utility matrix`.\n",
    "\n",
    "| | IT1 | IT2 | IT3 | ... | ITk |\n",
    "|---|---|---|---|---|---|\n",
    "| U1 | 1 |  | 5 | ... | 3 |\n",
    "| U2 |  | 2 |  | ... | 2 |\n",
    "| U3 | 5 |  | 3 | ... |  |\n",
    "| U4 | 3 | 3 |  | ... | 4 |\n",
    "| U5 |  | 1 |  | ... | ... |\n",
    "\n",
    "The value of row i, column j expresses how much does user `i` like item `j`. The values are often the rating scores of users for items. An unknown value implies that we have no explicit information about the user's preference for the item. The goal of a recommendation system is to predict \"the blanks\" in the `preference matrix`. For example, assume that the rating score is from 1 (dislike) to 5 (love), would user `U5` like `IT3` ? We have two approaches:\n",
    "\n",
    "* Designing our recommendation system to take into account properties of items such as brand, category, price... or even the similarity of their names. We can denote the similarity of items `IT2` and `IT3`, and then conclude that because user `U5` did not like `IT2`, they were unlikely to enjoy SW2 either.\n",
    "\n",
    "* We might observe that the people who rated both `IT2` and `IT3` tended to give them similar ratings. Thus, we could conclude that user `U5` would also give `IT3` a low rating, similar to `U5`'s rating of `IT2`\n",
    "\n",
    "It is not necessary to predict every blank entry in a `utility matrix`. Rather, it is only necessary to discover some entries in each row that are likely to be high. In most applications, the recommendation system does not oﬀer users a ranking of all items, but rather suggests a few that the user should value highly. It may not even be necessary to ﬁnd all items with the highest expected ratings, but only to ﬁnd a large subset of those with the highest ratings.\n",
    "\n",
    "\n",
    "## 2.2 Families of recommender systems\n",
    "\n",
    "In general, recommender systems can be categorized into two groups:\n",
    "\n",
    "* **Content-Based** systems focus on properties of items. Similarity of items is determined by measuring the similarity in their properties.\n",
    "\n",
    "* **Collaborative-Filtering** systems focus on the relationship between users and items. Similarity of items is determined by the similarity of the ratings of those items by the users who have rated both items.\n",
    "\n",
    "In the usecase of this notebook, artists take the role of `items`, and `users` keep the same role as `users`.\n",
    "Since we have no information about `artists`, except their names, we cannot build a `content-based` recommender system.\n",
    "\n",
    "Therefore, in the rest of this notebook, we only focus on `Collaborative-Filtering` algorithms.\n",
    "\n",
    "## 2.3 Collaborative-Filtering \n",
    "In this section, we study a member of a broad class of algorithms called `latent-factor` models. They try to explain observed interactions between large numbers of users and products through a relatively small number of unobserved, underlying reasons. It is analogous to explaining why millions of people buy a particular few of thousands of possible albums by describing users and albums in terms of tastes for perhaps tens of genres, tastes which are **not directly observable or given** as data. \n",
    "\n",
    "First, we formulate the learning problem as a matrix completion problem. Then, we will use a type of `matrix factorization` model to \"fill in\" the blanks.  We are given implicit ratings that users have given certain items (that is, the number of times they played a particular artist) and our goal is to predict their ratings for the rest of the items. Formally, if there are $n$ users and $m$ items, we are given an $n \\times m$ matrix $R$ in which the generic entry $(u, i)$ represents the rating for item $i$ by user $u$. **Matrix $R$ has many missing entries indicating unobserved ratings, and our task is to estimate these unobserved ratings**.\n",
    "\n",
    "A popular approach to the matrix completion problem is **matrix factorization**, where we want to \"summarize\" users and items with their **latent factors**.\n",
    "\n",
    "### 2.3.1 Basic idea and an example of Matrix Factorization\n",
    "For example, given a preference matrix 5x5 as below, we want to approximate this matrix into the product of two smaller matrixes $X$ and $Y$ .\n",
    "\n",
    "$$\n",
    "M = \n",
    "\\begin{bmatrix}\n",
    " 5 & 2 & 4 & 4 & 3 \\\\\n",
    " 3 & 1 & 2 & 4 & 1 \\\\\n",
    " 2 &  & 3 & 1 & 4 \\\\\n",
    " 2 & 5 & 4 & 3 & 5 \\\\\n",
    " 4 & 4 & 5 & 4 &  \\\\\n",
    "\\end{bmatrix}\n",
    "\\approx M^\\prime =\n",
    "\\begin{bmatrix}\n",
    " x_{11} & x_{12} \\\\\n",
    " x_{21} & x_{22} \\\\\n",
    " x_{31} & x_{32} \\\\\n",
    " x_{41} & x_{42} \\\\\n",
    " x_{51} & x_{52} \\\\\n",
    "\\end{bmatrix}\n",
    "\\times\n",
    "\\begin{bmatrix}\n",
    " y_{11} & y_{12} & y_{13} & y_{14} & y_{15} \\\\\n",
    " y_{21} & y_{22} & y_{23} & y_{24} & y_{25} \\\\\n",
    "\\end{bmatrix}\n",
    "$$\n",
    "\n",
    "$M^\\prime$ is an approximation that is as close to A as possible. To calculate how far from $M$ $M^\\prime$ is, we often calculate the sum of squared distances of non-empty elements in $M$ and the corresponding elements in $M^\\prime$.\n",
    "In this way, for $M^\\prime$, besides the approximated elements in $M$, we also have the non-observed elements. Therefore, to see how much does user `i` like item `j`, we simply pick up the value of $M^\\prime_{i,j}$.\n",
    "\n",
    "The challenge is how to calculate $X$ and $Y$. The bad news is that this can't be solved directly for both the best $X$ and best $Y$ at the same time. Fortunately, if $Y$ is known, we can calculate the best of $X$, and vice versa. It means from the initial values of $X$ and $Y$ in the beginning, we calculate best $X$ according to $Y$, and then calculate the best $Y$ according to the new $X$. This process is repeated until the distance from $XY$ to $M$ is converged. It's simple, right ?\n",
    "\n",
    "Let's take an example. To compute the approximation for the above 5x5 matrix $M$, first, we init the value of $X$ and $Y$ as below.\n",
    "\n",
    "$$\n",
    "M^\\prime = X \\times Y =\n",
    "\\begin{bmatrix}\n",
    " 1 & 1 \\\\\n",
    " 1 & 1 \\\\\n",
    " 1 & 1 \\\\\n",
    " 1 & 1 \\\\\n",
    " 1 & 1 \\\\\n",
    "\\end{bmatrix}\n",
    "\\times\n",
    "\\begin{bmatrix}\n",
    " 1 & 1 & 1 & 1 & 1 \\\\\n",
    " 1 & 1 & 1 & 1 & 1 \\\\\n",
    "\\end{bmatrix}\n",
    "=\n",
    "\\begin{bmatrix}\n",
    " 2 & 2 & 2 & 2 & 2 \\\\\n",
    " 2 & 2 & 2 & 2 & 2 \\\\\n",
    " 2 & 2 & 2 & 2 & 2 \\\\\n",
    " 2 & 2 & 2 & 2 & 2 \\\\\n",
    " 2 & 2 & 2 & 2 & 2 \\\\\n",
    "\\end{bmatrix}\n",
    "$$\n",
    "\n",
    "With the initial iteration, we calculate the the Root-Mean-Square Error from $XY$ to $M$.\n",
    "\n",
    "Consider the ﬁrst rows of $M$ and $XY$ . We subtract the first row from $XY$ from the entries in the ﬁrst row of $M$, to get $3,0,2,2,1$. We square and sum these to get $18$. \n",
    "\n",
    "In the second row, we do the same to get $1,−1,0,2,−1$, square and sum to get $7$. \n",
    "\n",
    "In the third row, the second column is blank, so that entry is ignored when computing the RMSE. The diﬀerences are $0,1,−1,2$ and the sum of squares is $6$. \n",
    "\n",
    "For the fourth row, the diﬀerences are $0,3,2,1,3$ and the sum of squares is $23$. \n",
    "\n",
    "The ﬁfth row has a blank entry in the last column, so the diﬀerences are $2,2,3,2$ and the sum of squares is $21$. \n",
    "\n",
    "When we sum the sums from each of the ﬁve rows, we get $18+7+6+23+21 = 75$. So, $RMSE=\\sqrt{75/23}=1.806$ where $23$ is the number of non-empty values in $M$.\n",
    "\n",
    "Next, with the given value of $Y$, we calculate $X$ by finding the best value for $X_{11}$.\n",
    "\n",
    "$$\n",
    "M^\\prime = X \\times Y =\n",
    "\\begin{bmatrix}\n",
    " x & 1 \\\\\n",
    " 1 & 1 \\\\\n",
    " 1 & 1 \\\\\n",
    " 1 & 1 \\\\\n",
    " 1 & 1 \\\\\n",
    "\\end{bmatrix}\n",
    "\\times\n",
    "\\begin{bmatrix}\n",
    " 1 & 1 & 1 & 1 & 1 \\\\\n",
    " 1 & 1 & 1 & 1 & 1 \\\\\n",
    "\\end{bmatrix}\n",
    "=\n",
    "\\begin{bmatrix}\n",
    " x+1 & x+1 & x+1 & x+1 & x+1 \\\\\n",
    " 2 & 2 & 2 & 2 & 2 \\\\\n",
    " 2 & 2 & 2 & 2 & 2 \\\\\n",
    " 2 & 2 & 2 & 2 & 2 \\\\\n",
    " 2 & 2 & 2 & 2 & 2 \\\\\n",
    "\\end{bmatrix}\n",
    "$$\n",
    "\n",
    "Now, to minimize the $RMSE$  we minimize the difference of the first rows $(5−(x+1))^2 + (2−(x+1))^2 + (4−(x+1))^2 + (4−(x+1))^2 + (3−(x+1))^2$. By  taking the derivative and set that equal to 0, we pick $x=2.6$\n",
    "\n",
    "Given the new value of $X$, we can calculate the best value for $Y$.\n",
    "\n",
    "$$\n",
    "M^\\prime = X \\times Y =\n",
    "\\begin{bmatrix}\n",
    " 2.6 & 1 \\\\\n",
    " 1 & 1 \\\\\n",
    " 1 & 1 \\\\\n",
    " 1 & 1 \\\\\n",
    " 1 & 1 \\\\\n",
    "\\end{bmatrix}\n",
    "\\times\n",
    "\\begin{bmatrix}\n",
    " y & 1 & 1 & 1 & 1 \\\\\n",
    " 1 & 1 & 1 & 1 & 1 \\\\\n",
    "\\end{bmatrix}\n",
    "=\n",
    "\\begin{bmatrix}\n",
    " 3.6 & 3.6 & 3.6 & 3.6 & 3.6 \\\\\n",
    " 2 & 2 & 2 & 2 & 2 \\\\\n",
    " 2 & 2 & 2 & 2 & 2 \\\\\n",
    " 2 & 2 & 2 & 2 & 2 \\\\\n",
    " 2 & 2 & 2 & 2 & 2 \\\\\n",
    "\\end{bmatrix}\n",
    "$$\n",
    "\n",
    "By doing the same process as before, we can pick value for $y=1.617$. After that, we can check if the $RMSE$ is not converged, we continue to update $X$ by $Y$ and vice versa. In this example, for simple, we only update one element of each matrix in each iteration. In practice, we can update a full row or full matrix at once.\n"
   ]
  },
  {
   "cell_type": "markdown",
   "metadata": {},
   "source": [
    "### 2.3.2 Matrix Factorization: Objective and ALS Algorithm on a Single Machine\n",
    "\n",
    "More formally, in general, we select $k$ latent features, and describe each user $u$ with a $k-$dimensional vector $x_u$, and each item $i$ with a $k-$dimensional vector $y_i$.\n",
    "\n",
    "Then, to predict user $u$'s rating for item $i$, we do as follows: $ r_{ui} \\approx x_{u}^{T}y_i$.\n",
    "\n",
    "This can be put, more elegantly, in a matrix form. Let $x_1, \\cdots x_n \\in \\mathbb{R}^k$ be the factors for the users, and $y_1, \\cdots y_m \\in \\mathbb{R}^k$ the factors for the items. The $k \\times n$ user matrix $X$ and the $k \\times m$ item matrix $Y$ are then defined by:\n",
    "\n",
    "$$\n",
    "X = \n",
    "\\begin{bmatrix}\n",
    " |   &         & |  \\\\\n",
    "x_1  &  \\cdots & x_n\\\\\n",
    " |   &         & |  \\\\\n",
    "\\end{bmatrix}\n",
    "$$\n",
    "\n",
    "$$\n",
    "Y = \n",
    "\\begin{bmatrix}\n",
    " |   &         & |  \\\\\n",
    "y_1  &  \\cdots & y_i\\\\\n",
    " |   &         & |  \\\\\n",
    "\\end{bmatrix}\n",
    "$$\n",
    "\n",
    "Our goal is to estimate the complete ratings matrix $R \\approx X^{T} Y$. We can formulate this problem as an optimization problem in which we aim to minimize an objective function and find optimal $X$ and $Y$ . In particular, we aim to minimize the least squares error of the observed ratings (and regularize):\n",
    "\n",
    "$$\n",
    "\\min_{X,Y} \\sum_{r_{ui} \\text{observed}}(r_{ui} - x_{u}^{T}y_i)^2 + \\lambda \\left( \\sum_{u} \\|x_u\\|^2 + \\sum_{i} \\|y_i\\|^2 \\right) \n",
    "$$\n",
    "\n",
    "Notice that this objective is non-convex (because of the $x_{u}^{T} y_i$ term); in fact it’s NP-hard to optimize. Gradient descent can be used as an approximate approach here, however it turns out to be slow and costs lots of iterations. Note however, that if we fix the set of variables $X$ and treat them as constants, then the objective is a convex function of $Y$ and vice versa. Our approach will therefore be to fix $Y$ and optimize $X$, then fix $X$ and optimize $Y$, and repeat until convergence. This approach is known as **ALS (Alternating Least Squares)**. For our objective function, the alternating least squares algorithm can be expressed with this simple pseudo-code:"
   ]
  },
  {
   "cell_type": "markdown",
   "metadata": {},
   "source": [
    "Initialize $X$, $Y$\n",
    "\n",
    "**while**(convergence is not true) **do**\n",
    "\n",
    "\n",
    "**for** $u = 1 \\cdots n$ **do**\n",
    "\n",
    "$x_u = \\left( \\sum_{r_ui \\in r_{u*}} y_i y_{i}^{T} + \\lambda I_k \\right)^{-1} \\sum_{r_ui \\in r_{u*}} r_{ui} y_i $ \n",
    "   \n",
    "**end for**\n",
    "\n",
    "**for** $u = 1 \\cdots n$ **do**\n",
    "\n",
    "$y_i = \\left( \\sum_{r_ui \\in r_{*i}} x_u x_{u}^{T} + \\lambda I_k \\right)^{-1} \\sum_{r_ui \\in r_{*i}} r_{ui} x_u $ \n",
    "   \n",
    "**end for**\n",
    "\n",
    "\n",
    "**end while**"
   ]
  },
  {
   "cell_type": "markdown",
   "metadata": {},
   "source": [
    "For a single machine, we can analyze the computational cost of this algorithm. Updating each $x_u$ will cost $O(n_u k^2 + k^3)$, where $n_u$ is the number of items rated by user $u$, and similarly updating each $y_i$ will cost $O(n_i k^2 + k^3)$, where $n_i$ is the number of users that have rated item $i$.\n",
    "\n",
    "\n",
    "Once we’ve computed the matrices $X$ and $Y$, there are several ways compute a prediction. The first is to do what was discussed before, which is to simply predict $ r_{ui} \\approx x_{u}^{T}y_i$ for each user $u$ and item $i$. \n",
    "This approach will cost $O(nmk)$ if we’d like to estimate every user-item pair. \n",
    "\n",
    "However, this approach is prohibitively expensive for most real-world datasets. A second (and more holistic) approach is to use the $x_u$ and $y_i$ as features in another learning algorithm, incorporating these features with others that are relevant to the prediction task."
   ]
  },
  {
   "cell_type": "markdown",
   "metadata": {},
   "source": [
    "### 2.3.3 Parallel Altenating Least Squares\n",
    "\n",
    "There are several ways to distribute the computation of the ALS algorithm depending on how data is partitioned.\n",
    "\n",
    "#### Method 1: using joins\n",
    "First we consider a fully distributed version, in the sense that all data (both input and output) is stored in a distributed file system. In practice, input data (ratings) and parameters ($X$ and $Y$) are stored in an a Spark RDD. Specifically, ratings -- that are always **sparse** -- are stored as RDD of triplets:\n",
    "\n",
    "Ratings: RDD((u, i, $r_{ui}$), . . . )\n",
    "\n",
    "\n",
    "Instead, we can use dense representation for factor matrices $X$ and $Y$, and these are stored as RDDs of vectors. More precisely, we can use the data types introduced in Spark MLLib to store such vectors and matrices:\n",
    "\n",
    "X : RDD($x_1$,...,$x_n$)\n",
    "\n",
    "Y : RDD($y_1$,...,$y_m$)\n",
    "\n",
    "\n",
    "Now, recall the expression to compute $x_u$:\n",
    "\n",
    "$x_u = \\left( \\sum_{r_ui \\in r_{u*}} y_i y_{i}^{T} + \\lambda I_k \\right)^{-1} \\sum_{r_ui \\in r_{u*}} r_{ui} y_i $ \n",
    "\n",
    "Let's call the first summation *part A* and the second summation *part B*. To compute such parts, in parallel, we can proceed with the following high-level pseudocode:\n",
    "\n",
    "* Join the Ratings RDD with the $Y$ matrix RDD using key $i$ (items)\n",
    "* Map to compute $y_i y_{i}^{T}$ and emit using key $u$ (user)\n",
    "* ReduceByKey $u$ (user) to compute 􏰀$\\sum_{r_ui \\in r_{u*}} y_i y_{i}^{T}$\n",
    "* Invert\n",
    "* Another ReduceByKey $u$ (user) to compute 􏰁$\\sum_{r_ui \\in r_{u*}} r_{ui} y_i$\n",
    "\n",
    "We can use the same template to copmute $y_i$.\n",
    "\n",
    "This approach works fine, but note it requires computing $y_i y_{i}^{T}$ for each user that has rated item $i$. \n",
    "\n",
    "#### Method 2: using broadcast variables (advanced topic)\n",
    "The next approach takes advantage of the fact that the $X$ and $Y$ factor matrices are often very small and can be stored locally on each machine.\n",
    "\n",
    "* Partition the Ratings RDD **by user** to create $R_1$, and similarly partition the Ratings RDD **by item** to create $R_2$. This means there are two copies of the same Ratings RDD, albeit with different partitionings. In $R_1$, all ratings by the same user are on the same machine, and in $R_2$ all ratings for same item are on the same machine.\n",
    "* Broadcast the matrices $X$ and $Y$. Note that these matrices are not RDD of vectors: they are now \"local: matrices.\n",
    "* Using $R_1$ and $Y$, we can use expression $x_u$ from above to compute the update of $x_u$ locally on each machine\n",
    "* Using $R_2$ and $X$, we can use expression $y_i$ from above to compute the update of $y_i$ locally on each machine\n",
    "\n",
    "A further optimization to this method is to group the $X$ and $Y$ factors matrices into blocks (user blocks and item blocks) and reduce the communication by only sending to each machine the block of users (or items) that are needed to compute the updates at that machine. \n",
    "\n",
    "This method is called **Block ALS**. It is achieved by precomputing some information about the ratings matrix to determine the \"out-links\" of each user (which blocks of the items it will contribute to) and \"in-link\" information for each item (which of the factor vectors it receives from each user block it will depend on). For exmple, assume that machine 1 is responsible for users 1,2,...,37: these will be block 1 of users. The items rated by these users are block 1 of items. Only the factors of block 1 of users and block 1 of items will be broadcasted to machine 1.\n",
    "\n",
    "### Further readings\n",
    "Other methods for matrix factorization include:\n",
    "\n",
    "* Low Rank Approximation and Regression in Input Sparsity Time, by Kenneth L. Clarkson, David P. Woodruff. http://arxiv.org/abs/1207.6365\n",
    "* Generalized Low Rank Models (GLRM), by Madeleine Udell, Corinne Horn, Reza Zadeh, Stephen Boyd. http://arxiv.org/abs/1410.0342\n",
    "* Matrix Completion and Low-Rank SVD via Fast Alternating Least Squares, by Trevor Hastie, Rahul Mazumder, Jason D. Lee, Reza Zadeh . Statistics Department and ICME, Stanford University, 2014. http://stanford.edu/~rezab/papers/fastals.pdf"
   ]
  },
  {
   "cell_type": "markdown",
   "metadata": {},
   "source": [
    "# 3. Usecase : Music recommender system\n",
    "\n",
    "In this usecase, we use the data of users and artists in the previous sections to build a statistical model to recommend artists for users.\n",
    " \n",
    "## 3.1 Requirements\n",
    "According to the properties of data, we need to choose a recommender algorithm that is suitable for this implicit feedback data. It means that the algorithm should learn without access to user or artist attributes such as age, genre,.... Therefore, an algorithm of type `collaborative filtering` is the best choice.\n",
    "\n",
    "Second, in the data, there are some users that have listened to only 1 artist. We need an algorithm that might provide decent recommendations to even these users. After all, at some point, every user starts out with just one play at some point! \n",
    "\n",
    "Third, we need an algorithm that scales, both in its ability to build large models, and to create recommendations quickly. So, an algorithm which can run on a distributed system (SPARK, Hadoop...) is very suitable.\n",
    "\n",
    "From these requirement, we can choose using ALS algorithm in SPARK's MLLIB.\n",
    "\n",
    "Spark MLlib’s ALS implementation draws on ideas from [1](http://yifanhu.net/PUB/cf.pdf) and [2](http://link.springer.com/chapter/10.1007%2F978-3-540-68880-8_32).\n",
    "\n",
    "## 3.2 Notes\n",
    "\n",
    "Currently, MLLIB can only build models from an RDD. That means we have two ways to prepare data:\n",
    "\n",
    "* Loading to into SPARK SQL DataFrame as before, and then access the corresponding RDD by calling `<dataframe>.rdd`. The invalid data is often sucessfully dropped by using mode `DROPMALFORMED`. However, this way might not work in all cases. Fortunately, we can use it with this usecase.\n",
    "\n",
    "* Loading data directly to RDD. However, we have to deal with the invalid data ourself. In the trade-off, this way is the most reliable, and can work in every case.\n",
    "\n",
    "In this notebook, we will use the second approach: it requires a bit more effort, but the reward is worth it!\n",
    "\n",
    " \n",
    "## 3.3 Cleanup the data\n",
    "In section 1, we already replaced the ids of mispelled artists by the corresponding standard ids by using SPARK SQL API.\n",
    "However, if the data has the invalid entries such that SPARK SQL API is stuck, the best way to work with it is using an RDD.\n",
    "\n",
    "Just as a recall, we work with three datasets in `user_artist_data.txt`, `` and `artist_alias.txt`. The entries in these file can be empty or have only one field. \n",
    "\n",
    "In details our goal now is:\n",
    "\n",
    "* Read the input ```user_artist_data.txt``` and transforms its representation into an output dataset.\n",
    "* To produce an output \"tuple\" containing the original user identifier and play counts, but with the artist identifier replaced by its most common alias, as found in the ```artist_alias.txt``` dataset.\n",
    "* Since the ```artist_alias.txt``` file is small, we can use a technique called **broadcast variables** to make such transformation more efficient.\n"
   ]
  },
  {
   "cell_type": "markdown",
   "metadata": {},
   "source": [
    "### Question 6\n",
    "\n",
    "#### Question 6.1\n",
    "Load data from `/datasets/lastfm/artist_alias.txt` and filter out the invalid entries to construct a dictionary to map from mispelled artists' ids to standard ids.\n",
    "\n",
    "NOTE: From now on, we will use the \"standard\" data to train our model.\n",
    "\n",
    "HINT: If a line contains less than 2 fields or contains invalid numerial values, we can return a special tuple. After that, we can filter out these special tuples."
   ]
  },
  {
   "cell_type": "code",
<<<<<<< HEAD
   "execution_count": 30,
=======
   "execution_count": 11,
>>>>>>> 3f41190ae29a3a4943a7f3a55dd5c8bd471282b4
   "metadata": {
    "collapsed": false
   },
   "outputs": [],
   "source": [
    "rawArtistAlias = sc.textFile(base + \"artist_alias.txt\")\n",
    "\n",
    "def xtractFields(s):\n",
    "    # Using white space or tab character as separetors,\n",
    "    # split a line into list of strings \n",
    "    line = re.split(\"\\s|\\t\",s,1)\n",
    "    # if this line has at least 2 characters\n",
    "    if (len(line) > 1):\n",
    "        try:\n",
    "            # try to parse the first and the second components to integer type\n",
    "            return (int(line[0]), int(line[1]))\n",
    "        except ValueError:\n",
    "            # if parsing has any error, return a special tuple\n",
    "            return (-1,-1)\n",
    "    else:\n",
    "        # if this line has less than 2 characters, return a special tuple\n",
    "        return (-1,-1)\n",
    "\n",
    "artistAlias = (\n",
    "                rawArtistAlias\n",
    "                    # extract fields using function xtractFields\n",
    "                    .map( lambda x: xtractFields(x))\n",
    "\n",
    "                    # fileter out the special tuples\n",
    "                    .filter( lambda x: x != (-1,-1) )\n",
    "                    # collect result to the driver as a \"dictionary\"\n",
    "                    .collectAsMap()\n",
    "                )"
   ]
  },
  {
   "cell_type": "markdown",
   "metadata": {
    "collapsed": false
   },
   "source": [
    "#### Question 6.2\n",
    "Using the dictionary in question 6.1, prepare RDD `userArtistDataRDD` by replacing mispelled artists' ids to standard ids. Show 5 samples.\n",
    "\n",
    "HINT: Using broadcast varible can help us increase the effiency."
   ]
  },
  {
   "cell_type": "code",
<<<<<<< HEAD
   "execution_count": 9,
=======
   "execution_count": 12,
>>>>>>> 3f41190ae29a3a4943a7f3a55dd5c8bd471282b4
   "metadata": {
    "collapsed": false
   },
   "outputs": [
    {
     "data": {
      "text/plain": [
       "[('1000002', '1', '55'),\n",
       " ('1000002', '1000006', '33'),\n",
       " ('1000002', '1000007', '8'),\n",
       " ('1000002', '1000009', '144'),\n",
       " ('1000002', '1000010', '314')]"
      ]
     },
<<<<<<< HEAD
     "execution_count": 9,
=======
     "execution_count": 12,
>>>>>>> 3f41190ae29a3a4943a7f3a55dd5c8bd471282b4
     "metadata": {},
     "output_type": "execute_result"
    }
   ],
   "source": [
    "bArtistAlias = sc.broadcast(artistAlias)\n",
    "rawUserArtistData = sc.textFile(base + \"user_artist_data.txt\")\n",
    "\n",
    "def disambiguate(line):\n",
    "    [userID, artistID, count] = line.split(' ')\n",
    "    finalArtistID = bArtistAlias.value.get(artistID,artistID)\n",
    "    return (userID, finalArtistID,count)\n",
    "\n",
    "\n",
    "userArtistDataRDD = rawUserArtistData.map(disambiguate)\n",
    "userArtistDataRDD.take(5)"
   ]
  },
  {
   "cell_type": "markdown",
   "metadata": {},
   "source": [
    "## 3.4 Training our statistical model\n",
    "To train a model using ALS, we must use a preference matrix  as an input. MLLIB uses the class `Rating` to support the construction of a distributed preference matrix."
   ]
  },
  {
   "cell_type": "markdown",
   "metadata": {},
   "source": [
    "### Question 7\n",
    "\n",
    "#### Question 7.1\n",
    "Given RDD `userArtistDataRDD` in question 6.2, construct a new RDD `trainingData` by tranforming each item of it into a `Rating` object."
   ]
  },
  {
   "cell_type": "code",
<<<<<<< HEAD
   "execution_count": 10,
=======
   "execution_count": 13,
>>>>>>> 3f41190ae29a3a4943a7f3a55dd5c8bd471282b4
   "metadata": {
    "collapsed": false
   },
   "outputs": [],
   "source": [
    "from pyspark.mllib.recommendation import ALS, MatrixFactorizationModel, Rating"
   ]
  },
  {
   "cell_type": "code",
<<<<<<< HEAD
   "execution_count": 11,
=======
   "execution_count": 14,
>>>>>>> 3f41190ae29a3a4943a7f3a55dd5c8bd471282b4
   "metadata": {
    "collapsed": false
   },
   "outputs": [
    {
     "data": {
      "text/plain": [
<<<<<<< HEAD
       "[Rating(user=2036216, product=1106605, rating=9.0),\n",
       " Rating(user=2036216, product=1106606, rating=7.0),\n",
       " Rating(user=2036216, product=1108, rating=2.0),\n",
       " Rating(user=2036216, product=1108135, rating=8.0),\n",
       " Rating(user=2036216, product=1109892, rating=2.0)]"
      ]
     },
     "execution_count": 11,
=======
       "[Rating(user=1000002, product=1001008, rating=151.0),\n",
       " Rating(user=1000002, product=1001065, rating=1.0),\n",
       " Rating(user=1000002, product=1001129, rating=23.0),\n",
       " Rating(user=1000002, product=1001130, rating=3.0),\n",
       " Rating(user=1000002, product=1001152, rating=2.0)]"
      ]
     },
     "execution_count": 14,
>>>>>>> 3f41190ae29a3a4943a7f3a55dd5c8bd471282b4
     "metadata": {},
     "output_type": "execute_result"
    }
   ],
   "source": [
<<<<<<< HEAD
    "# What is the role of repartition() ? currently set to 1\n",
=======
    "\n",
>>>>>>> 3f41190ae29a3a4943a7f3a55dd5c8bd471282b4
    "allData = userArtistDataRDD.map(lambda r: Rating( float(r[0]),float(r[1]),int(r[2]))) \\\n",
    "                                            .repartition(12).cache()\n",
    "allData.take(5)\n"
   ]
  },
  {
   "cell_type": "markdown",
   "metadata": {
    "collapsed": false
   },
   "source": [
    "#### Question 7.2\n",
    "A model can be trained by using `ALS.trainImplicit(<training data>, <rank>)`, where:\n",
    "* `training data` is the input data you decide to feed to the ALS algorithm\n",
    "* `rank` is the number of laten features\n",
    "\n",
    "We can also use some additional parameters to adjust the quality of the model. Currently, let's set \n",
    "\n",
    "- `rank=10`\n",
    "- `iterations=5`\n",
    "- `lambda_=0.01`\n",
    "- `alpha=1.0` \n",
    "\n",
    "to build model."
   ]
  },
  {
   "cell_type": "code",
<<<<<<< HEAD
   "execution_count": 12,
=======
   "execution_count": 25,
>>>>>>> 3f41190ae29a3a4943a7f3a55dd5c8bd471282b4
   "metadata": {
    "collapsed": false
   },
   "outputs": [
    {
     "name": "stdout",
     "output_type": "stream",
     "text": [
<<<<<<< HEAD
      "finish training model in 23.700969 secs\n"
=======
      "finish training model in 31.614194 secs\n"
>>>>>>> 3f41190ae29a3a4943a7f3a55dd5c8bd471282b4
     ]
    }
   ],
   "source": [
    "#setting parameters\n",
    "rank=10\n",
    "iterations=5\n",
    "lambda_=0.01\n",
    "alpha=1.0\n",
    "\n",
    "#training\n",
    "t0 = time()\n",
    "model = ALS.trainImplicit(allData, rank)\n",
    "t1 = time()\n",
    "print(\"finish training model in %f secs\" % (t1 - t0))"
   ]
  },
  {
   "cell_type": "markdown",
   "metadata": {},
   "source": [
    "#### Question 7.3\n",
    "The trained model can be saved into HDFS for later use. This can be done via `model.save(sc, <file_name>)`.\n",
    "Let's use this function to store our model as name `lastfm_model.spark`.\n",
    "\n",
    "NOTE 1: since you may have noticed that building the model takes some time, it might come to your mind that this information could be stored, such that you can \"interrupt\" your laboratory session here, and restart next time by loading your model.\n",
    "\n",
    "NOTE 2: funnily enough, it could take more time to save the model than to build it from scratch! So take a look at the execution time to save the model: this method actually stores the model as Parquet files, which are column-oriented and compressed.\n",
    "\n",
    "NOTE 3: to check you have your file on HDFS, you are invited to open a terminal from the \"Home\" Jupyter dashboard, and type `hdfs dfs -ls` to check."
   ]
  },
  {
   "cell_type": "code",
   "execution_count": 13,
   "metadata": {
    "collapsed": false
   },
   "outputs": [
    {
     "name": "stdout",
     "output_type": "stream",
     "text": [
      "Deleted lastfm_model.spark\n",
      "Delete old model\n",
      "Save new model\n"
     ]
    }
   ],
   "source": [
    "! hdfs dfs -rm -R -f -skipTrash lastfm_model.spark\n",
    "print('Delete old model')\n",
    "model.save(sc,'lastfm_model.spark')\n",
    "print('Save new model')"
   ]
  },
  {
   "cell_type": "code",
   "execution_count": 27,
   "metadata": {
    "collapsed": false
   },
   "outputs": [],
   "source": [
    "#! hdfs dfs -rm -R -f -skipTrash lastfm_model.spark\n",
    "model.save(sc,'lastfm_model.spark')"
   ]
  },
  {
   "cell_type": "markdown",
   "metadata": {},
   "source": [
    "#### Question 7.4\n",
    "A saved model can be load from file by using `MatrixFactorizationModel.load(sc, <file_name>)`. \n",
    "\n",
    "Let's load our model from file."
   ]
  },
  {
   "cell_type": "code",
   "execution_count": 14,
   "metadata": {
    "collapsed": false
   },
   "outputs": [
    {
     "name": "stdout",
     "output_type": "stream",
     "text": [
      "finish loading model in 2.338303 secs\n"
     ]
    }
   ],
   "source": [
    "t0 = time()\n",
    "model = MatrixFactorizationModel.load(sc, 'lastfm_model.spark')\n",
    "t1 = time()\n",
    "print(\"finish loading model in %f secs\" % (t1 - t0))"
   ]
  },
  {
   "cell_type": "code",
   "execution_count": 15,
   "metadata": {
    "collapsed": false
   },
   "outputs": [
    {
     "name": "stdout",
     "output_type": "stream",
     "text": [
      "finish loading model in 3.324529 secs\n"
     ]
    }
   ],
   "source": [
    "t0 = time()\n",
    "model = MatrixFactorizationModel.load(sc, 'lastfm_model.spark')\n",
    "t1 = time()\n",
    "print(\"finish loading model in %f secs\" % (t1 - t0))"
   ]
  },
  {
   "cell_type": "markdown",
   "metadata": {},
   "source": [
    "#### Question 7.5\n",
    "Print the first row of user features in our model."
   ]
  },
  {
   "cell_type": "code",
   "execution_count": 15,
   "metadata": {
    "collapsed": false
   },
   "outputs": [
    {
     "data": {
      "text/plain": [
       "(120,\n",
       " array('d', [0.013015546835958958, 0.026646407321095467, 0.03155335783958435, 0.010615335777401924, -0.011892418377101421, 0.04263768345117569, -0.006773869041353464, 0.03619746118783951, -0.020702147856354713, 0.001963405404239893]))"
      ]
     },
     "execution_count": 15,
     "metadata": {},
     "output_type": "execute_result"
    }
   ],
   "source": [
    "model.userFeatures().first()"
   ]
  },
  {
   "cell_type": "code",
   "execution_count": 16,
   "metadata": {
    "collapsed": false
   },
   "outputs": [
    {
     "data": {
      "text/plain": [
       "[(120,\n",
       "  array('d', [0.03618168830871582, -0.01389644481241703, -0.01628822833299637, 0.02124699577689171, -0.03795149177312851, 0.0066252960823476315, 0.026424521580338478, -0.026419011875987053, -0.0319937989115715, 0.021271098405122757]))]"
      ]
     },
     "execution_count": 16,
     "metadata": {},
     "output_type": "execute_result"
    }
   ],
   "source": [
    "model.userFeatures().take(1)"
   ]
  },
  {
   "cell_type": "markdown",
   "metadata": {},
   "source": [
    "### Question 8\n",
    "Show the top-5 artist names recommendated for user `2093760`.\n",
    "\n",
    "HINT: The recommendations can be given by function `recommendProducts(userID, num_recommendations)`. These recommendations are only artist ids. You have to map them to artist names by using data in `artist_data.txt`."
   ]
  },
  {
   "cell_type": "code",
   "execution_count": 17,
   "metadata": {
    "collapsed": false
   },
   "outputs": [
    {
     "name": "stdout",
     "output_type": "stream",
     "text": [
      "[Rating(user=2093760, product=1007614, rating=0.031728325986117266), Rating(user=2093760, product=4605, rating=0.029786811867368757), Rating(user=2093760, product=2814, rating=0.02909620790980484), Rating(user=2093760, product=829, rating=0.028143097273975112), Rating(user=2093760, product=250, rating=0.027969621114353672)]\n"
     ]
    },
    {
     "data": {
      "text/plain": [
       "{250, 829, 2814, 4605, 1007614}"
      ]
     },
     "execution_count": 17,
     "metadata": {},
     "output_type": "execute_result"
    }
   ],
   "source": [
    "# Make five reccommendations to user 2093760\n",
    "recommendations = (model.recommendProducts(2093760,5))\n",
    "print(recommendations)\n",
    "# construct set of recommendated artists\n",
    "recArtist = set(rating[1] for rating in recommendations)\n",
    "recArtist"
   ]
  },
  {
   "cell_type": "code",
<<<<<<< HEAD
   "execution_count": 18,
   "metadata": {
    "collapsed": true
   },
   "outputs": [],
=======
   "execution_count": 17,
   "metadata": {
    "collapsed": false
   },
   "outputs": [
    {
     "name": "stdout",
     "output_type": "stream",
     "text": [
      "[Rating(user=1000002, product=1000113, rating=1.2660067586155033), Rating(user=1000002, product=1270, rating=1.2179556868807677), Rating(user=1000002, product=1205, rating=1.1993203003005541), Rating(user=1000002, product=82, rating=1.1882349210194674), Rating(user=1000002, product=1394, rating=1.160158971417102), Rating(user=1000002, product=1275996, rating=1.144874278194754), Rating(user=1000002, product=1274, rating=1.1439095231710361), Rating(user=1000002, product=976, rating=1.1223127495640601), Rating(user=1000002, product=606, rating=1.110641300019982), Rating(user=1000002, product=1000323, rating=1.0740458023711106), Rating(user=1000002, product=313, rating=1.0342589277462912), Rating(user=1000002, product=1000024, rating=1.0267631637570098), Rating(user=1000002, product=4267, rating=1.0121784438970738), Rating(user=1000002, product=344, rating=0.979442344794433), Rating(user=1000002, product=1000157, rating=0.9764420788952105)]\n"
     ]
    },
    {
     "data": {
      "text/plain": [
       "{82,\n",
       " 313,\n",
       " 344,\n",
       " 606,\n",
       " 976,\n",
       " 1205,\n",
       " 1270,\n",
       " 1274,\n",
       " 1394,\n",
       " 4267,\n",
       " 1000024,\n",
       " 1000113,\n",
       " 1000157,\n",
       " 1000323,\n",
       " 1275996}"
      ]
     },
     "execution_count": 17,
     "metadata": {},
     "output_type": "execute_result"
    }
   ],
   "source": [
    "# Make five reccommendations to user 2093760\n",
    "recommendations = (model.recommendProducts(1000002,15))\n",
    "print(recommendations)\n",
    "# construct set of recommendated artists\n",
    "recArtist = set(rating[1] for rating in recommendations)\n",
    "recArtist"
   ]
  },
  {
   "cell_type": "markdown",
   "metadata": {},
>>>>>>> 3f41190ae29a3a4943a7f3a55dd5c8bd471282b4
   "source": [
    "# construct data of artists (artist_id, artist_name)\n",
    "\n",
    "rawArtistData = sc.textFile(base + \"artist_data.txt\")\n",
    "\n",
    "def xtractFields(s):\n",
    "    line = re.split(\"\\s|\\t\",s,1)\n",
    "    if (len(line) > 1):\n",
    "        try:\n",
    "            return (int(line[0]), str(line[1].strip()))\n",
    "        except ValueError:\n",
    "            return (-1,\"\")\n",
    "    else: \n",
    "        return (-1,\"\")\n",
    "\n",
    "artistByID = rawArtistData.map(xtractFields).filter(lambda x: x[0] > 0)"
   ]
  },
  {
   "cell_type": "code",
<<<<<<< HEAD
   "execution_count": 19,
   "metadata": {
    "collapsed": false
   },
   "outputs": [
    {
     "name": "stdout",
     "output_type": "stream",
     "text": [
      "['50 Cent', 'Snoop Dogg', 'Nas', 'Jay-Z', 'Outkast']\n"
     ]
    }
   ],
=======
   "execution_count": 18,
   "metadata": {
    "collapsed": true
   },
   "outputs": [],
   "source": [
    "# construct data of artists (artist_id, artist_name)\n",
    "\n",
    "rawArtistData = sc.textFile(base + \"artist_data.txt\")\n",
    "\n",
    "def xtractFields(s):\n",
    "    line = re.split(\"\\s|\\t\",s,1)\n",
    "    if (len(line) > 1):\n",
    "        try:\n",
    "            return (int(line[0]), str(line[1].strip()))\n",
    "        except ValueError:\n",
    "            return (-1,\"\")\n",
    "    else: \n",
    "        return (-1,\"\")\n",
    "\n",
    "artistByID = rawArtistData.map(xtractFields).filter(lambda x: x[0] > 0)"
   ]
  },
  {
   "cell_type": "markdown",
   "metadata": {},
>>>>>>> 3f41190ae29a3a4943a7f3a55dd5c8bd471282b4
   "source": [
    "# Filter in those artists, get just artist, and print\n",
    "def artistNames(line):\n",
    "#     [artistID, name]\n",
    "    if (line[0] in recArtist):\n",
    "        return True\n",
    "    else:\n",
    "        return False\n",
    "\n",
    "recList = artistByID.filter(artistNames).values().collect()\n",
    "\n",
    "print(recList)"
   ]
  },
  {
   "cell_type": "code",
   "execution_count": 19,
   "metadata": {
    "collapsed": false
   },
   "outputs": [
    {
     "name": "stdout",
     "output_type": "stream",
     "text": [
      "['AC/DC', 'Queen', \"Guns N' Roses\", 'The Doors', 'Metallica', 'The Beatles', 'R.E.M.', 'Led Zeppelin', 'David Bowie', 'Red Hot Chili Peppers', 'U2', 'Nirvana', 'Pink Floyd', 'The Rolling Stones', 'Green Day']\n"
     ]
    }
   ],
   "source": [
    "# Filter in those artists, get just artist, and print\n",
    "def artistNames(line):\n",
    "#     [artistID, name]\n",
    "    if (line[0] in recArtist):\n",
    "        return True\n",
    "    else:\n",
    "        return False\n",
    "\n",
    "recList = artistByID.filter(artistNames).values().collect()\n",
    "\n",
    "print(recList)"
   ]
  },
  {
   "cell_type": "markdown",
   "metadata": {},
   "source": [
    "#### IMPORTANT NOTE\n",
    "\n",
    "At the moment, it is necessary to manually unpersist the RDDs inside the model when you are done with it. The following function can be used to make sure models are promptly uncached."
   ]
  },
  {
   "cell_type": "code",
   "execution_count": 20,
   "metadata": {
    "collapsed": false
   },
   "outputs": [],
   "source": [
    "\n",
    "def unpersist(model):\n",
    "    model.userFeatures().unpersist()\n",
    "    model.productFeatures().unpersist()\n",
    "\n",
    "# uncache data and model when they are no longer used  \n",
    "unpersist(model)"
   ]
  },
  {
   "cell_type": "markdown",
   "metadata": {
    "collapsed": true
   },
   "source": [
    "## 3.5 Evaluating Recommendation Quality \n",
    "\n",
    "In this section, we study how to evaluate the quality of our model. It's hard to say how good the recommendations are.\n",
    "One of serveral methods approach to evaluate  a recommender based on its ability to rank good items (artists) high in a list of recommendations. The problem is how to define \"good artists\". Currently, by training all data, \"good artists\" is defined as \"artists the user has listened to\", and the recommender system has already received all of this information as input. It could trivially return the users previously-listened artists as top recommendations and score perfectly. Indeed, this is not useful, because the recommender's is used to recommend artists that the user has **never** listened to. \n",
    "\n",
    "To overcome that problem, we can hide the some of the artist play data and only use the rest to train model. Then, this held-out data can be interpreted as a collection of \"good\" recommendations for each user. The recommender is asked to rank all items in the model, and the rank of the held-out artists are examined. Ideally the recommender places all of them at or near the top of the list.\n",
    "\n",
    "The recommender's score can then be computed by comparing all held-out artists' ranks to the rest.  The fraction of pairs where the held-out artist is ranked higher is its score. 1.0 is perfect, 0.0 is the worst possible score, and 0.5 is the expected value achieved from randomly ranking artists. \n",
    "\n",
    "AUC(Area Under the Curve) can be used as a metric to evaluate model. It is also viewed as the probability that a randomly-chosen \"good\" artist ranks above a randomly-chosen \"bad\" artist.\n",
    "\n",
    "Next, we split the training data into 2 parts: `trainData` and `cvData` with ratio 0.9:0.1 respectively, where `trainData` is the dataset that will be used to train model. Then we write a function to calculate AUC to evaluate the quality of our model.\n"
   ]
  },
  {
   "cell_type": "markdown",
   "metadata": {},
   "source": [
    "### Question 9\n",
    "\n",
    "#### Question 9.1\n",
    "Split the data into `trainData` and `cvData` with ratio 0.9:0.1 and use the first part to train a statistic model with:\n",
    "\n",
    "- rank=10\n",
    "- iterations=5\n",
    "- lambda_=0.01\n",
    "- alpha=1.0"
   ]
  },
  {
   "cell_type": "markdown",
   "metadata": {},
   "source": [
    "```python\n",
    "trainData, cvData = allData.randomSplit ...\n",
    "trainData.cache()\n",
    "cvData.cache()\n",
    "```"
   ]
  },
  {
   "cell_type": "code",
   "execution_count": 21,
   "metadata": {
    "collapsed": false
   },
   "outputs": [
    {
     "data": {
      "text/plain": [
<<<<<<< HEAD
       "PythonRDD[194] at RDD at PythonRDD.scala:48"
=======
       "PythonRDD[98] at RDD at PythonRDD.scala:48"
>>>>>>> 3f41190ae29a3a4943a7f3a55dd5c8bd471282b4
      ]
     },
     "execution_count": 21,
     "metadata": {},
     "output_type": "execute_result"
    }
   ],
   "source": [
    "trainData, cvData = allData.randomSplit([0.7,0.3],1)\n",
    "trainData.cache()\n",
    "cvData.cache()"
   ]
  },
  {
   "cell_type": "markdown",
   "metadata": {},
   "source": [
    "## Answer question 9.1:\n",
    "\n",
    "### Here I just split the dataset to 70% for training and 30% for testing. If I have enough time, I will conduct an experiment that changing the proportion of splitting data to see how it affects our prediction model. "
   ]
  },
  {
   "cell_type": "code",
   "execution_count": 22,
   "metadata": {
    "collapsed": false
   },
   "outputs": [
    {
     "name": "stdout",
     "output_type": "stream",
     "text": [
      "finish training model in 29.380009 secs\n"
     ]
    }
   ],
   "source": [
    "#training\n",
    "t0 = time()\n",
    "model = ALS.trainImplicit(ratings=trainData,rank=rank,iterations=iterations,lambda_=lambda_ ,alpha=alpha)\n",
    "t1 = time()\n",
    "print(\"finish training model in %f secs\" % (t1 - t0))"
   ]
  },
  {
   "cell_type": "code",
   "execution_count": 62,
   "metadata": {
    "collapsed": false
   },
   "outputs": [
    {
     "name": "stdout",
     "output_type": "stream",
     "text": [
      "finish training model in 28.013330 secs\n"
     ]
    }
   ],
   "source": [
    "#list of parameters\n",
    "rank=10\n",
    "iterations=5\n",
    "lambda_=0.01\n",
    "alpha=1.0\n",
    "\n",
    "#training\n",
    "t0 = time()\n",
    "model = ALS.trainImplicit(ratings=trainData,rank=rank,iterations=iterations,lambda_=lambda_ ,alpha=alpha)\n",
    "t1 = time()\n",
    "print(\"finish training model in %f secs\" % (t1 - t0))"
   ]
  },
  {
   "cell_type": "markdown",
   "metadata": {},
   "source": [
    "#### Area under the ROC curve: a function to compute it"
   ]
  },
  {
   "cell_type": "code",
<<<<<<< HEAD
   "execution_count": 23,
=======
   "execution_count": 22,
>>>>>>> 3f41190ae29a3a4943a7f3a55dd5c8bd471282b4
   "metadata": {
    "collapsed": true
   },
   "outputs": [],
   "source": [
    "# Get all unique artistId, and broadcast them\n",
    "allItemIDs = np.array(allData.map(lambda x: x[1]).distinct().collect())\n",
    "bAllItemIDs = sc.broadcast(allItemIDs)"
   ]
  },
  {
   "cell_type": "code",
<<<<<<< HEAD
   "execution_count": 24,
=======
   "execution_count": 23,
>>>>>>> 3f41190ae29a3a4943a7f3a55dd5c8bd471282b4
   "metadata": {
    "collapsed": false
   },
   "outputs": [],
   "source": [
    "from random import randint\n",
    "\n",
    "# Depend on the number of item in userIDAndPosItemIDs,\n",
    "# create a set of \"negative\" products for each user. These are randomly chosen\n",
    "# from among all of the other items, excluding those that are \"positive\" for the user.\n",
    "# NOTE 1: mapPartitions operates on many (user,positive-items) pairs at once\n",
    "# NOTE 2: flatMap breaks the collections above down into one big set of tuples\n",
    "def xtractNegative(userIDAndPosItemIDs):\n",
    "    def pickEnoughNegatives(line):\n",
    "        userID = line[0]\n",
    "        posItemIDSet = set(line[1])\n",
    "        #posItemIDSet = line[1]\n",
    "        negative = []\n",
    "        allItemIDs = bAllItemIDs.value\n",
    "        # Keep about as many negative examples per user as positive. Duplicates are OK.\n",
    "        i = 0\n",
    "        while (i < len(allItemIDs) and len(negative) < len(posItemIDSet)):\n",
    "            itemID = allItemIDs[randint(0,len(allItemIDs)-1)]\n",
    "            if itemID not in posItemIDSet:\n",
    "                negative.append(itemID)\n",
    "            i += 1\n",
    "        \n",
    "        # Result is a collection of (user,negative-item) tuples\n",
    "        return map(lambda itemID: (userID, itemID), negative)\n",
    "\n",
    "    # Init an RNG and the item IDs set once for partition\n",
    "    # allItemIDs = bAllItemIDs.value\n",
    "    return map(pickEnoughNegatives, userIDAndPosItemIDs)\n",
    "\n",
    "def ratioOfCorrectRanks(positiveRatings, negativeRatings):\n",
    "    \n",
    "    # find number elements in arr that has index >= start and has value smaller than x\n",
    "    # arr is a sorted array\n",
    "    def findNumElementsSmallerThan(arr, x, start=0):\n",
    "        left = start\n",
    "        right = len(arr) -1\n",
    "        # if x is bigger than the biggest element in arr\n",
    "        if start > right or x > arr[right]:\n",
    "            return right + 1\n",
    "        mid = -1\n",
    "        while left <= right:\n",
    "            mid = (left + right) // 2\n",
    "            if arr[mid] < x:\n",
    "                left = mid + 1\n",
    "            elif arr[mid] > x:\n",
    "                right = mid - 1\n",
    "            else:\n",
    "                while mid-1 >= start and arr[mid-1] == x:\n",
    "                    mid -= 1\n",
    "                return mid\n",
    "        return mid if arr[mid] > x else mid + 1\n",
    "    \n",
    "    ## AUC may be viewed as the probability that a random positive item scores\n",
    "    ## higher than a random negative one. Here the proportion of all positive-negative\n",
    "    ## pairs that are correctly ranked is computed. The result is equal to the AUC metric.\n",
    "    correct = 0 ## L\n",
    "    total = 0 ## L\n",
    "    \n",
    "    # sorting positiveRatings array needs more cost\n",
    "    #positiveRatings = np.array(map(lambda x: x.rating, positiveRatings))\n",
    "\n",
    "    negativeRatings = list(map(lambda x:x.rating, negativeRatings))\n",
    "    \n",
    "    #np.sort(positiveRatings)\n",
    "    negativeRatings.sort()# = np.sort(negativeRatings)\n",
    "    total = len(positiveRatings)*len(negativeRatings)\n",
    "    \n",
    "    for positive in positiveRatings:\n",
    "        # Count the correctly-ranked pairs\n",
    "        correct += findNumElementsSmallerThan(negativeRatings, positive.rating)\n",
    "        \n",
    "    ## Return AUC: fraction of pairs ranked correctly\n",
    "    return float(correct) / total\n",
    "\n",
    "def calculateAUC(positiveData, bAllItemIDs, predictFunction):\n",
    "    # Take held-out data as the \"positive\", and map to tuples\n",
    "    positiveUserProducts = positiveData.map(lambda r: (r[0], r[1]))\n",
    "    # Make predictions for each of them, including a numeric score, and gather by user\n",
    "    positivePredictions = predictFunction(positiveUserProducts).groupBy(lambda r: r.user)\n",
    "    \n",
    "    # Create a set of \"negative\" products for each user. These are randomly chosen \n",
    "    # from among all of the other items, excluding those that are \"positive\" for the user. \n",
    "    negativeUserProducts = positiveUserProducts.groupByKey().mapPartitions(xtractNegative).flatMap(lambda x: x)\n",
    "    # Make predictions on the rest\n",
    "    negativePredictions = predictFunction(negativeUserProducts).groupBy(lambda r: r.user)\n",
    "    \n",
    "    return (\n",
    "            positivePredictions.join(negativePredictions)\n",
    "                .values()\n",
    "                .map(\n",
    "                    lambda positive_negativeRatings: ratioOfCorrectRanks(positive_negativeRatings[0], positive_negativeRatings[1])\n",
    "                )\n",
    "                .mean()\n",
    "            )"
   ]
  },
  {
   "cell_type": "markdown",
   "metadata": {},
   "source": [
    "####  Question 9.2\n",
    "Using part `cvData` and function `calculateAUC` to compute the AUC of the trained model."
   ]
  },
  {
   "cell_type": "code",
   "execution_count": 25,
   "metadata": {
    "collapsed": false
   },
   "outputs": [
    {
     "name": "stdout",
     "output_type": "stream",
     "text": [
      "auc= 0.9619779167060607\n",
      "finish in 48.165726 seconds\n"
     ]
    }
   ],
   "source": [
    "t0 = time()\n",
    "auc = calculateAUC( cvData,bAllItemIDs, model.predictAll)\n",
    "t1 = time()\n",
    "print(\"auc=\",auc)\n",
    "print(\"finish in %f seconds\" % (t1 - t0))"
   ]
  },
  {
   "cell_type": "code",
   "execution_count": 24,
   "metadata": {
    "collapsed": false
   },
   "outputs": [
    {
     "name": "stdout",
     "output_type": "stream",
     "text": [
      "auc= 0.965444126686686\n",
      "finish in 58.501360 seconds\n"
     ]
    }
   ],
   "source": [
    "t0 = time()\n",
    "auc = calculateAUC( cvData,bAllItemIDs, model.predictAll)\n",
    "t1 = time()\n",
    "print(\"auc=\",auc)\n",
    "print(\"finish in %f seconds\" % (t1 - t0))"
   ]
  },
  {
   "cell_type": "markdown",
   "metadata": {},
   "source": [
    "#### Question 9.3\n",
    "Now we have the AUC of our model, it’s helpful to benchmark this against a simpler approach. For example, consider recommending the globally most-played artists to every user. This is not personalized, but is simple and may be effective. \n",
    "\n",
    "Implement this simple pupolarity-based prediction algorithm, evaluate its AUC score, and compare to the results achieved by the more sophisticated ALS algorithm."
   ]
  },
  {
   "cell_type": "code",
   "execution_count": 26,
   "metadata": {
    "collapsed": false
   },
   "outputs": [],
   "source": [
    "bListenCount = sc.broadcast(trainData.map(lambda r: (r[1], r[2])).reduceByKey(lambda x,y: x+y).collectAsMap())\n",
    "def predictMostListened(allData):\n",
    "    return allData.map(lambda r: Rating(r[0], r[1], bListenCount.value.get( r[1], 0.0)))"
   ]
  },
  {
   "cell_type": "code",
<<<<<<< HEAD
   "execution_count": 27,
   "metadata": {
    "collapsed": false
   },
   "outputs": [
    {
     "name": "stdout",
     "output_type": "stream",
     "text": [
      "AUC score:0.9360186325213407\n"
     ]
    }
   ],
=======
   "execution_count": 25,
   "metadata": {
    "collapsed": false
   },
   "outputs": [],
   "source": [
    "bListenCount = sc.broadcast(trainData.map(lambda r: (r[1], r[2])).reduceByKey(lambda x,y: x+y).collectAsMap())\n",
    "def predictMostListened(allData):\n",
    "    return allData.map(lambda r: Rating(r[0], r[1], bListenCount.value.get( r[1], 0.0)))"
   ]
  },
  {
   "cell_type": "markdown",
   "metadata": {},
>>>>>>> 3f41190ae29a3a4943a7f3a55dd5c8bd471282b4
   "source": [
    "auc = calculateAUC(cvData,bListenCount, predictMostListened)\n",
    "print(\"AUC score:\" + str(auc))"
   ]
  },
  {
   "cell_type": "code",
   "execution_count": 26,
   "metadata": {
    "collapsed": false
   },
   "outputs": [
    {
     "name": "stdout",
     "output_type": "stream",
     "text": [
      "0.9364279529999656\n"
     ]
    }
   ],
   "source": [
    "auc = calculateAUC(cvData,bListenCount, predictMostListened)\n",
    "print(auc)"
   ]
  },
  {
   "cell_type": "markdown",
   "metadata": {
    "collapsed": true
   },
   "source": [
    "## 3.6 Personalized recommendations with ALS\n",
    "\n",
    "In the previous section, we build our models with some given paramters without any knowledge about them. Actually, choosing the best parameters' values is very important. It can significantly affect the quality of models. Especially, with the current implementation of ALS in MLLIB, these parameters are not learned by the algorithm, and must be chosen by the caller. The following parameters should get consideration before training models:\n",
    "\n",
    "* `rank = 10`: the number of latent factors in the model, or equivalently, the number of columns $k$ in the user-feature and product-feature matrices. In non-trivial cases, this is also their rank. \n",
    "\n",
    "* `iterations = 5`: the number of iterations that the factorization runs. Instead of runing the algorithm until RMSE converged which actually takes very long time to finish with large datasets, we only let it run in a given number of iterations. More iterations take more time but may produce a better factorization.\n",
    "\n",
    "* `lambda_ = 0.01`: a standard overfitting parameter. Higher values resist overfitting, but values that are too high hurt the factorization's accuracy.\n",
    "\n",
    "*  `alpha = 1.0`: controls the relative weight of observed versus unobserved userproduct interactions in the factorization. \n",
    "\n",
    "Although all of them have impact on the models' quality, `iterations` is more of a constraint on resources used in the factorization. So, `rank`, `lambda_` and `alpha` can be considered hyperparameters to the model. \n",
    "We will try to find \"good\" values for them. Indeed, the values of hyperparameter are not necessarily optimal. Choosing good hyperparameter values is a common problem in machine learning. The most basic way to choose values is to simply try combinations of values and evaluate a metric for each of them, and choose the combination that produces the best value of the metric. \n"
   ]
  },
  {
   "cell_type": "markdown",
   "metadata": {
    "collapsed": true
   },
   "source": [
    "### Question 10\n",
    "\n",
    "#### Question 10.1\n",
    "For simplicity, assume that we want to explore the following parameter space: $ rank \\in \\{10, 50\\}$, $lambda\\_ \\in \\{1.0, 0.0001\\}$ and $alpha \\in \\{1.0, 40.0\\}$.\n",
    "\n",
    "Find the best combination of them in terms of the highest AUC value."
   ]
  },
  {
   "cell_type": "code",
   "execution_count": 28,
   "metadata": {
    "collapsed": false
   },
   "outputs": [
    {
     "name": "stdout",
     "output_type": "stream",
     "text": [
      "Train model with rank=10 lambda_=1.000000 alpha=1.000000\n",
      "Train model with rank=10 lambda_=1.000000 alpha=40.000000\n",
      "Train model with rank=10 lambda_=0.000100 alpha=1.000000\n",
      "Train model with rank=10 lambda_=0.000100 alpha=40.000000\n",
      "Train model with rank=50 lambda_=1.000000 alpha=1.000000\n",
      "Train model with rank=50 lambda_=1.000000 alpha=40.000000\n",
      "Train model with rank=50 lambda_=0.000100 alpha=1.000000\n",
      "Train model with rank=50 lambda_=0.000100 alpha=40.000000\n",
      "                    0         1\n",
      "0  (10, 0.0001, 40.0)  0.972624\n",
      "1     (10, 1.0, 40.0)  0.972394\n",
      "2     (50, 1.0, 40.0)  0.971223\n",
      "3  (50, 0.0001, 40.0)  0.969919\n",
      "4      (10, 1.0, 1.0)  0.962843\n",
      "5      (50, 1.0, 1.0)  0.959626\n",
      "6   (10, 0.0001, 1.0)  0.958997\n",
      "7   (50, 0.0001, 1.0)  0.943221\n"
     ]
    },
    {
     "data": {
      "text/plain": [
       "PythonRDD[194] at RDD at PythonRDD.scala:48"
      ]
     },
     "execution_count": 28,
     "metadata": {},
     "output_type": "execute_result"
    }
   ],
   "source": [
    "evaluations = []\n",
    "\n",
    "for rank in [10, 50]:\n",
    "    for lambda_ in [1.0, 0.0001]:\n",
    "        for alpha in [1.0, 40.0]:\n",
    "            print(\"Train model with rank=%d lambda_=%f alpha=%f\" % (rank, lambda_, alpha))\n",
    "            # with each combination of params, we should run multiple times and get avg\n",
    "            # for simple, we only run one time.\n",
    "            #model = ALS.trainImplicit(ratings=trainData,rank,iterations=5,lambda_,alpha)\n",
    "            model = ALS.trainImplicit(ratings=trainData,rank=rank,iterations=5,lambda_=lambda_ ,alpha=alpha)\n",
    "            auc = calculateAUC(cvData,bListenCount,model.predictAll)\n",
    "\n",
    "            evaluations.append(((rank, lambda_, alpha), auc))\n",
    "\n",
    "            unpersist(model)\n",
    "\n",
    "evaluations.sort(key = lambda x: -x[1])\n",
    "evalDataFrame = pd.DataFrame(data=evaluations)\n",
    "print(evalDataFrame)\n",
    "\n",
    "trainData.unpersist()\n",
    "cvData.unpersist()"
   ]
  },
  {
   "cell_type": "markdown",
   "metadata": {},
   "source": [
    "## Answer question 10.1:\n",
    "\n",
    "### The combination of parameters that gets the highest AUC is: rank = 10 ; lambda = 0.0001 ; alpha = 40 "
   ]
  },
  {
   "cell_type": "code",
   "execution_count": 27,
   "metadata": {
    "collapsed": false
   },
   "outputs": [
    {
     "name": "stdout",
     "output_type": "stream",
     "text": [
      "Train model with rank=10 lambda_=1.000000 alpha=1.000000\n",
      "Train model with rank=10 lambda_=1.000000 alpha=40.000000\n",
      "Train model with rank=10 lambda_=0.000100 alpha=1.000000\n",
      "Train model with rank=10 lambda_=0.000100 alpha=40.000000\n",
      "Train model with rank=50 lambda_=1.000000 alpha=1.000000\n",
      "Train model with rank=50 lambda_=1.000000 alpha=40.000000\n",
      "Train model with rank=50 lambda_=0.000100 alpha=1.000000\n",
      "Train model with rank=50 lambda_=0.000100 alpha=40.000000\n"
     ]
    },
    {
     "ename": "TypeError",
     "evalue": "must use keyword argument for key function",
     "output_type": "error",
     "traceback": [
      "\u001b[0;31m---------------------------------------------------------------------------\u001b[0m",
      "\u001b[0;31mTypeError\u001b[0m                                 Traceback (most recent call last)",
      "\u001b[0;32m<ipython-input-27-44a2810ed044>\u001b[0m in \u001b[0;36m<module>\u001b[0;34m()\u001b[0m\n\u001b[1;32m     15\u001b[0m             \u001b[0munpersist\u001b[0m\u001b[0;34m(\u001b[0m\u001b[0mmodel\u001b[0m\u001b[0;34m)\u001b[0m\u001b[0;34m\u001b[0m\u001b[0m\n\u001b[1;32m     16\u001b[0m \u001b[0;34m\u001b[0m\u001b[0m\n\u001b[0;32m---> 17\u001b[0;31m \u001b[0mevaluations\u001b[0m\u001b[0;34m.\u001b[0m\u001b[0msort\u001b[0m\u001b[0;34m(\u001b[0m\u001b[0;32mlambda\u001b[0m \u001b[0mx\u001b[0m\u001b[0;34m:\u001b[0m \u001b[0;34m-\u001b[0m\u001b[0mx\u001b[0m\u001b[0;34m[\u001b[0m\u001b[0;36m1\u001b[0m\u001b[0;34m]\u001b[0m\u001b[0;34m)\u001b[0m\u001b[0;34m\u001b[0m\u001b[0m\n\u001b[0m\u001b[1;32m     18\u001b[0m \u001b[0;34m\u001b[0m\u001b[0m\n\u001b[1;32m     19\u001b[0m \u001b[0mevalDataFrame\u001b[0m \u001b[0;34m=\u001b[0m \u001b[0mpd\u001b[0m\u001b[0;34m.\u001b[0m\u001b[0mDataFrame\u001b[0m\u001b[0;34m(\u001b[0m\u001b[0mdata\u001b[0m\u001b[0;34m=\u001b[0m\u001b[0mevaluations\u001b[0m\u001b[0;34m)\u001b[0m\u001b[0;34m\u001b[0m\u001b[0m\n",
      "\u001b[0;31mTypeError\u001b[0m: must use keyword argument for key function"
     ]
    }
   ],
   "source": [
    "evaluations = []\n",
    "\n",
    "for rank in [10, 50]:\n",
    "    for lambda_ in [1.0, 0.0001]:\n",
    "        for alpha in [1.0, 40.0]:\n",
    "            print(\"Train model with rank=%d lambda_=%f alpha=%f\" % (rank, lambda_, alpha))\n",
    "            # with each combination of params, we should run multiple times and get avg\n",
    "            # for simple, we only run one time.\n",
    "            #model = ALS.trainImplicit(ratings=trainData,rank,iterations=5,lambda_,alpha)\n",
    "            model = ALS.trainImplicit(ratings=trainData,rank=rank,iterations=5,lambda_=lambda_ ,alpha=alpha)\n",
    "            auc = calculateAUC(cvData,bListenCount,model.predictAll)\n",
    "\n",
    "            evaluations.append(((rank, lambda_, alpha), auc))\n",
    "\n",
    "            unpersist(model)\n",
    "\n",
    "evaluations.sort(lambda x: -x[1])\n",
    "\n",
    "evalDataFrame = pd.DataFrame(data=evaluations)\n",
    "print(evalDataFrame)\n",
    "\n",
    "trainData.unpersist()\n",
    "cvData.unpersist()"
   ]
  },
  {
   "cell_type": "code",
   "execution_count": 28,
   "metadata": {
    "collapsed": false
   },
   "outputs": [
    {
     "name": "stdout",
     "output_type": "stream",
     "text": [
      "                    0         1\n",
      "0     (10, 1.0, 40.0)  0.973983\n",
      "1  (10, 0.0001, 40.0)  0.972318\n",
      "2     (50, 1.0, 40.0)  0.971225\n",
      "3  (50, 0.0001, 40.0)  0.969701\n",
      "4      (10, 1.0, 1.0)  0.965094\n",
      "5      (50, 1.0, 1.0)  0.959703\n",
      "6   (10, 0.0001, 1.0)  0.959434\n",
      "7   (50, 0.0001, 1.0)  0.943433\n"
     ]
    },
    {
     "data": {
      "text/plain": [
       "PythonRDD[98] at RDD at PythonRDD.scala:48"
      ]
     },
     "execution_count": 28,
     "metadata": {},
     "output_type": "execute_result"
    }
   ],
   "source": [
    "evaluations.sort(key = lambda x: -x[1])\n",
    "evalDataFrame = pd.DataFrame(data=evaluations)\n",
    "print(evalDataFrame)\n",
    "\n",
    "trainData.unpersist()\n",
    "cvData.unpersist()"
   ]
  },
  {
   "cell_type": "markdown",
   "metadata": {
    "collapsed": true
   },
   "source": [
    "#### Question 10.2 \n",
    "\n",
    "Using \"optimal\" hyper-parameters in question 10.1, re-train the model and show top-5 artist names recommendated for user 2093760."
   ]
  },
  {
   "cell_type": "code",
   "execution_count": 29,
   "metadata": {
    "collapsed": false
   },
   "outputs": [
    {
     "name": "stdout",
     "output_type": "stream",
     "text": [
      "['50 Cent', 'Snoop Dogg', 'Nas', 'Jay-Z', 'Outkast']\n"
     ]
    }
   ],
   "source": [
    "model = ALS.trainImplicit(ratings=allData, rank=10, iterations=5, lambda_=0.0001, alpha=40.0)\n",
    "allData.unpersist()\n",
    "\n",
    "userID = 2093760\n",
    "recommendations = model.recommendProducts(userID,5)\n",
    "\n",
    "recommendedProductIDs = set(rating[1] for rating in recommendations)\n",
    "\n",
    "recList = artistByID.filter(artistNames).values().collect()\n",
    "print(recList)\n",
    "\n",
    "unpersist(model)"
   ]
  },
  {
   "cell_type": "markdown",
   "metadata": {},
   "source": [
    "## Answer question 10.2: \n",
    "\n",
    "### It seems that the result of top 5 recommended artists does not change when we input more parameters the model (such as lambda, alpha).  I think that we should extend to top 50 or top 70 to see how the recommendation changing. Because I guess lambda and alpha just work when the ratings of each artist have average value on all total of ratings artists for one user (Top 5 artists have the larger rating value than others) \n",
    "\n",
    "### This raises me the question that how strong the impact of those parameters? Is it really nessessary to put into our model when we just need to retrieve a small number of top artists (let's say, less than top 10)? "
   ]
  },
  {
   "cell_type": "code",
   "execution_count": 33,
   "metadata": {
    "collapsed": false
   },
   "outputs": [
    {
     "name": "stdout",
     "output_type": "stream",
     "text": [
      "['AC/DC', 'Queen', \"Guns N' Roses\", 'The Doors', 'Metallica', 'The Beatles', 'R.E.M.', 'Led Zeppelin', 'David Bowie', 'Red Hot Chili Peppers', 'U2', 'Nirvana', 'Pink Floyd', 'The Rolling Stones', 'Green Day']\n"
     ]
    }
   ],
   "source": [
    "model = ALS.trainImplicit(ratings=allData, rank=10, iterations=5, lambda_=1.0, alpha=40.0)\n",
    "allData.unpersist()\n",
    "\n",
    "userID = 2093760\n",
    "recommendations = model.recommendProducts(userID,5)\n",
    "\n",
    "recommendedProductIDs = set(rating[1] for rating in recommendations)\n",
    "\n",
    "recList = artistByID.filter(artistNames).values().collect()\n",
    "print(recList)\n",
    "\n",
    "unpersist(model)"
   ]
  },
  {
   "cell_type": "markdown",
   "metadata": {},
   "source": [
    "# Summary\n",
    "\n",
    "In this notebook, we introduce an algorithm to do matrix factorization and the way of using it to make recommendation. Further more, we studied how to build a large-scale recommender system on SPARK using ALS algorithm and evaluate its quality. Finally, a simple approach to choose good parameters is mentioned."
   ]
  },
  {
   "cell_type": "markdown",
   "metadata": {
    "collapsed": true
   },
   "source": [
    "# References\n",
    "\n",
    "- The example in section 2 is taken from [Recommender system](infolab.stanford.edu/~ullman/mmds/ch9.pdf)"
   ]
  },
  {
   "cell_type": "code",
   "execution_count": null,
   "metadata": {
    "collapsed": true
   },
   "outputs": [],
   "source": []
  }
 ],
 "metadata": {
  "kernelspec": {
   "display_name": "Python 3",
   "language": "python",
   "name": "python3"
  },
  "language_info": {
   "codemirror_mode": {
    "name": "ipython",
    "version": 3
   },
   "file_extension": ".py",
   "mimetype": "text/x-python",
   "name": "python",
   "nbconvert_exporter": "python",
   "pygments_lexer": "ipython3",
   "version": "3.5.2"
  }
 },
 "nbformat": 4,
 "nbformat_minor": 0
}
